{
 "cells": [
  {
   "cell_type": "markdown",
   "id": "dde89a69",
   "metadata": {},
   "source": [
    "# 단일 입력 PromptTemplate"
   ]
  },
  {
   "cell_type": "code",
   "execution_count": 1,
   "id": "93a52d3b",
   "metadata": {},
   "outputs": [],
   "source": [
    "from langchain.prompts import PromptTemplate"
   ]
  },
  {
   "cell_type": "code",
   "execution_count": 4,
   "id": "64eed504",
   "metadata": {},
   "outputs": [
    {
     "data": {
      "text/plain": [
       "'0.3.25'"
      ]
     },
     "execution_count": 4,
     "metadata": {},
     "output_type": "execute_result"
    }
   ],
   "source": [
    "import langchain\n",
    "langchain.__version__"
   ]
  },
  {
   "cell_type": "code",
   "execution_count": 7,
   "id": "71fa77a0",
   "metadata": {},
   "outputs": [
    {
     "name": "stdout",
     "output_type": "stream",
     "text": [
      "당신은 최고 수준의 마케팅 카피라이터입니다. \n",
      "아래 제품의 매력적인 홍보 문구를 100자 내외로 작성하십시오. \n",
      "\n",
      "제품명: 초슈퍼카메라 x100\n"
     ]
    }
   ],
   "source": [
    "# 템플릿 문자열 : 프롬프트의 골격을 정의\n",
    "# PromptTemplate 객체 생성 : 인스턴스 변수 선언\n",
    "# 포멧(format) 메서드 수행 : PromptTemplate.format()\n",
    "# LLM 호출\n",
    "template_str = (\n",
    "  \"당신은 최고 수준의 마케팅 카피라이터입니다. \\n\"\n",
    "  \"아래 제품의 매력적인 홍보 문구를 100자 내외로 작성하십시오. \\n\\n\"\n",
    "  \"제품명: {product_name}\"\n",
    ")\n",
    "\n",
    "prompt = PromptTemplate.from_template(template_str)\n",
    "\n",
    "input_str = input(\"제품명을 입력하세요: \")\n",
    "formatted_prompt = prompt.format(product_name=input_str)\n",
    "print(formatted_prompt)"
   ]
  },
  {
   "cell_type": "code",
   "execution_count": 9,
   "id": "39249ea0",
   "metadata": {},
   "outputs": [
    {
     "name": "stdout",
     "output_type": "stream",
     "text": [
      "초슈퍼카메라 x100으로 순간을 선명하게! 뛰어난 화질과 빠른 반응속도로 최고의 사진을 경험하세요. 지금 바로 만나보세요!\n"
     ]
    }
   ],
   "source": [
    "from langchain_openai import ChatOpenAI\n",
    "\n",
    "llm = ChatOpenAI(model=\"gpt-4.1-nano\", temperature=0)\n",
    "\n",
    "chain = prompt | llm\n",
    "\n",
    "result = chain.invoke({\"product_name\": input_str})\n",
    "print(result.content)"
   ]
  },
  {
   "cell_type": "markdown",
   "id": "7655b81f",
   "metadata": {},
   "source": [
    "# 다중 입력 PromptTemplate"
   ]
  },
  {
   "cell_type": "code",
   "execution_count": 10,
   "id": "e6401acb",
   "metadata": {},
   "outputs": [
    {
     "name": "stdout",
     "output_type": "stream",
     "text": [
      "아래는 뉴스 기사 제목과 키워입니다.\n",
      "이 정보를 바탕으로 한 문단으로 구성된 간략한 요약문을 작성하십시오.\n",
      "\n",
      "제목 : 인공지능 기술의 발전과 미래\n",
      "키워드 : 머신러닝, 딥러닝, 산업 혁신\n",
      "\n"
     ]
    }
   ],
   "source": [
    "multi_template_str = (\n",
    "  \"아래는 뉴스 기사 제목과 키워입니다.\\n\"\n",
    "  \"이 정보를 바탕으로 한 문단으로 구성된 간략한 요약문을 작성하십시오.\\n\\n\"\n",
    "  \"제목 : {title}\\n\"\n",
    "  \"키워드 : {keywords}\\n\"\n",
    ")\n",
    "\n",
    "summary_prompt = PromptTemplate(template=multi_template_str, input_variables=[\"title\", \"keywords\"])\n",
    "\n",
    "sample_title = \"인공지능 기술의 발전과 미래\"\n",
    "sample_keywords = \"머신러닝, 딥러닝, 산업 혁신\"\n",
    "formatted_summary_prompt = summary_prompt.format(title=sample_title, keywords=sample_keywords)\n",
    "print(formatted_summary_prompt)"
   ]
  },
  {
   "cell_type": "code",
   "execution_count": 11,
   "id": "5ac45bc5",
   "metadata": {},
   "outputs": [
    {
     "name": "stdout",
     "output_type": "stream",
     "text": [
      "인공지능 기술은 머신러닝과 딥러닝의 발전을 통해 빠르게 진화하며 산업 전반에 혁신을 가져오고 있습니다. 이러한 기술들은 데이터 분석과 자동화 능력을 향상시켜 다양한 분야에서 효율성을 높이고 있으며, 앞으로도 지속적인 연구와 개발을 통해 미래 산업의 핵심 동력으로 자리 잡을 것으로 기대됩니다.\n"
     ]
    }
   ],
   "source": [
    "result_summary = (summary_prompt | llm).invoke({\n",
    "    \"title\": sample_title,\n",
    "    \"keywords\": sample_keywords\n",
    "})\n",
    "print(result_summary.content)"
   ]
  },
  {
   "cell_type": "markdown",
   "id": "de2a4810",
   "metadata": {},
   "source": [
    "# ChatPromptTemplate를 이용해 역할 기반 프롬프트"
   ]
  },
  {
   "cell_type": "code",
   "execution_count": 12,
   "id": "22b08fb3",
   "metadata": {},
   "outputs": [],
   "source": [
    "from langchain.prompts import ChatPromptTemplate"
   ]
  },
  {
   "cell_type": "code",
   "execution_count": 17,
   "id": "3300b460",
   "metadata": {},
   "outputs": [
    {
     "name": "stdout",
     "output_type": "stream",
     "text": [
      "[SystemMessage(content='당신은 파이썬 분야의 뛰어난 전문가이자 조언자입니다. 사용자의 프로그리밍 질문에 재미있게 이해하기 쉽게 답변하십시오.', additional_kwargs={}, response_metadata={}), HumanMessage(content='파이썬의 리스트 컴프리헨션(list comprehension)과 map 함수의 차이가 무엇이야?', additional_kwargs={}, response_metadata={})]\n"
     ]
    }
   ],
   "source": [
    "# 시나리오 : 파이썬 프로그램 전문가 역할 부여, 사용자가 파이썬 관련 질문에 친절히, 간경한 답변 하도록\n",
    "sys_message = (\n",
    "            \"당신은 파이썬 분야의 뛰어난 전문가이자 조언자입니다. \"\n",
    "            \"사용자의 프로그리밍 질문에 재미있게 이해하기 쉽게 답변하십시오.\"\n",
    "            )\n",
    "user_message = \"{question}\" # 사용자 질문 -> 실행 시 입력값으로 채워진다.\n",
    "\n",
    "chat_prompt = ChatPromptTemplate.from_messages([\n",
    "    (\"system\", sys_message),\n",
    "    (\"user\", user_message)\n",
    "  ])\n",
    "\n",
    "sample_question = \"파이썬의 리스트 컴프리헨션(list comprehension)과 map 함수의 차이가 무엇이야?\"\n",
    "\n",
    "message = chat_prompt.format_messages(question=sample_question)\n",
    "print(message)"
   ]
  },
  {
   "cell_type": "code",
   "execution_count": 18,
   "id": "5311907f",
   "metadata": {},
   "outputs": [
    {
     "name": "stdout",
     "output_type": "stream",
     "text": [
      "아하! 리스트 컴프리헨션과 map 함수의 차이점을 궁금해하는군요! 둘 다 파이썬에서 반복 작업을 깔끔하게 처리하는 멋진 도구들이지만, 각각의 매력 포인트가 조금씩 달라요. 자, 재미있게 비교해볼까요?\n",
      "\n",
      "1. **생김새와 문법의 차이!**\n",
      "   - **리스트 컴프리헨션**은 마치 요리 레시피처럼 한 줄로 쓱! 만들어내는 느낌이에요.\n",
      "     ```python\n",
      "     squares = [x**2 for x in range(10)]\n",
      "     ```\n",
      "     이건 \"0부터 9까지의 숫자를 제곱해서 리스트로 만들어라\"라는 명령이죠.\n",
      "   \n",
      "   - **map 함수**는 좀 더 함수형 프로그래밍 스타일이에요. 함수를 인자로 넣어서 적용하는 방식이죠.\n",
      "     ```python\n",
      "     def square(x):\n",
      "         return x**2\n",
      "     squares = list(map(square, range(10)))\n",
      "     ```\n",
      "     또는 람다 함수와 함께 쓰면 더 간단하게!\n",
      "     ```python\n",
      "     squares = list(map(lambda x: x**2, range(10)))\n",
      "     ```\n",
      "\n",
      "2. **가독성과 직관성!**\n",
      "   - 리스트 컴프리헨션은 한눈에 \"이 리스트는 어떤 규칙으로 만들어졌는지\" 알기 쉽고, 조건문도 넣기 좋아요.\n",
      "     ```python\n",
      "     even_squares = [x**2 for x in range(10) if x % 2 == 0]\n",
      "     ```\n",
      "   - map은 함수와 데이터를 따로 분리해서 생각하는 느낌이라, 복잡한 조건이 들어가면 조금 더 읽기 어려울 수 있어요.\n",
      "\n",
      "3. **성능 차이?**\n",
      "   - 둘 다 빠르지만, 내부 구현이 조금씩 달라서 미묘한 차이가 있을 수 있어요. 보통은 둘 다 충분히 빠르고, 가독성에 따라 선택하는 게 좋아요.\n",
      "\n",
      "4. **언제 어떤 걸 쓸까?**\n",
      "   - **리스트 컴프리헨션**은 간단한 변환이나 필터링에 딱! 좋아요.\n",
      "   - **map**은 이미 만들어진 함수와 함께 쓰거나, 함수형 프로그래밍 스타일을 좋아한다면 추천!\n",
      "\n",
      "---\n",
      "\n",
      "**요약하자면!**  \n",
      "- 리스트 컴프리헨션은 \"한 줄짜리 요리 레시피\"처럼 직관적이고, 조건도 넣기 쉽고, 가독성 좋아요.  \n",
      "- map은 \"함수와 데이터만 넣으면 끝!\"인, 좀 더 함수형 스타일의 도구입니다.\n",
      "\n",
      "이제 파이썬 요리사로서 두 도구를 적절히 활용할 수 있겠죠? 😊\n"
     ]
    }
   ],
   "source": [
    "result = (chat_prompt | llm).invoke({\"question\", sample_question})\n",
    "print(result.content)"
   ]
  },
  {
   "cell_type": "markdown",
   "id": "00bf3b0f",
   "metadata": {},
   "source": [
    "# PartialPromptTemplate"
   ]
  },
  {
   "cell_type": "code",
   "execution_count": 19,
   "id": "158749d1",
   "metadata": {},
   "outputs": [],
   "source": [
    "from langchain.prompts import SystemMessagePromptTemplate\n",
    "from langchain.prompts import HumanMessagePromptTemplate"
   ]
  },
  {
   "cell_type": "code",
   "execution_count": 20,
   "id": "7bb4f4ee",
   "metadata": {},
   "outputs": [],
   "source": [
    "role_system_template = \"당신은 {role} 분야의 전문 지식인입니다. 가능한 한 자세히 답변해 주세요.\"\n",
    "system_prompt = SystemMessagePromptTemplate.from_template(role_system_template)\n",
    "user_prompt = HumanMessagePromptTemplate.from_template(\"{question}\")\n",
    "\n",
    "base_chat_prompt = ChatPromptTemplate.from_messages([system_prompt, user_prompt])\n",
    "\n",
    "partial_chat_prompt = base_chat_prompt.partial(role=\"주식 투자\")"
   ]
  },
  {
   "cell_type": "code",
   "execution_count": 21,
   "id": "332ef87d",
   "metadata": {},
   "outputs": [
    {
     "name": "stdout",
     "output_type": "stream",
     "text": [
      "[SystemMessage(content='당신은 주식 투자 분야의 전문 지식인입니다. 가능한 한 자세히 답변해 주세요.', additional_kwargs={}, response_metadata={}), HumanMessage(content='현재 2025년 5월 시장 상황에서 삼성전자 주식 전망은 어떻습니까?', additional_kwargs={}, response_metadata={})]\n"
     ]
    }
   ],
   "source": [
    "sample_question = \"현재 2025년 5월 시장 상황에서 삼성전자 주식 전망은 어떻습니까?\"\n",
    "message = partial_chat_prompt.format_messages(question=sample_question)\n",
    "print(message)"
   ]
  },
  {
   "cell_type": "code",
   "execution_count": 22,
   "id": "ea087a3b",
   "metadata": {},
   "outputs": [
    {
     "name": "stdout",
     "output_type": "stream",
     "text": [
      "2025년 5월 현재 시장 상황을 고려할 때, 삼성전자 주식의 전망은 여러 요인에 따라 달라질 수 있습니다. 아래에 주요 분석 포인트를 상세히 설명드리겠습니다.\n",
      "\n",
      "1. 글로벌 경제 및 시장 환경\n",
      "- 글로벌 경기 회복 여부: 2025년 현재 세계 경제는 일부 지역에서 회복세를 보이고 있으나, 미국, 중국, 유럽 등 주요 경제권의 성장률과 인플레이션, 금리 정책이 삼성전자 주가에 영향을 미칩니다.\n",
      "- 금리 정책: 미국 연준과 한국은행의 금리 결정이 투자 심리와 자금 흐름에 영향을 미치며, 금리 인상은 기술주와 반도체 업종에 부정적일 수 있습니다.\n",
      "\n",
      "2. 반도체 산업 동향\n",
      "- 수요와 공급: 인공지능, 자율주행, 5G, IoT 등 첨단 기술 발전으로 반도체 수요는 지속적으로 증가하고 있으나, 공급 과잉이나 가격 하락 압력도 존재합니다.\n",
      "- 기술 혁신: 삼성전자는 D램, 낸드플래시, 시스템 반도체 등 핵심 제품에서 경쟁력을 유지하고 있으며, 차세대 공정 기술 개발이 중요한 변수입니다.\n",
      "\n",
      "3. 삼성전자의 내부 전략 및 재무 상태\n",
      "- 신사업 및 투자: 인공지능, 6G, 차세대 디스플레이, 바이오 등 신사업에 대한 투자와 연구개발(R&D) 활동이 기업 성장에 기여할 수 있습니다.\n",
      "- 재무 건전성: 안정적인 현금 흐름과 높은 수익성은 주가 안정성을 높이는 요인입니다.\n",
      "\n",
      "4. 기술적 분석 및 시장 심리\n",
      "- 주가 차트와 거래량: 최근의 주가 흐름, 지지선과 저항선, 이동평균선 등을 분석하면 단기적 또는 중장기적 방향성을 예측할 수 있습니다.\n",
      "- 투자 심리: 글로벌 불확실성, 지정학적 리스크, 환율 변동 등도 시장 심리에 영향을 미칩니다.\n",
      "\n",
      "5. 정책 및 규제 환경\n",
      "- 정부 정책: 한국 정부의 반도체 산업 지원 정책, 글로벌 무역 정책, 규제 강화 여부도 중요한 변수입니다.\n",
      "\n",
      "**전망 요약**  \n",
      "2025년 5월 현재, 삼성전자는 글로벌 반도체 시장의 성장과 기술 혁신, 내부 전략의 성공 여부에 따라 긍정적 또는 부정적 영향을 받을 수 있습니다. 전반적으로, 반도체 산업의 장기 성장 전망은 밝지만, 단기적으로는 글로벌 경제 불확실성, 금리 변동, 공급 과잉 등으로 인해 변동성이 클 수 있습니다.\n",
      "\n",
      "**투자 전략 제언**  \n",
      "- 장기 투자 관점에서는 삼성전자의 기술력과 시장 지배력을 고려할 때 긍정적 전망이 유지될 가능성이 높습니다.\n",
      "- 단기 또는 중기 투자에서는 시장의 변동성을 감안하여 분산 투자와 리스크 관리가 중요합니다.\n",
      "- 최신 재무제표, 시장 동향, 기술 개발 현황 등을 지속적으로 모니터링하는 것이 바람직합니다.\n",
      "\n",
      "추가로, 구체적인 투자 결정 전에 금융 전문가와 상담하거나, 최신 시장 보고서와 기업 실적 발표 자료를 참고하는 것을 권장드립니다.\n"
     ]
    }
   ],
   "source": [
    "result = (partial_chat_prompt | llm).invoke({\"question\", sample_question})\n",
    "print(result.content)"
   ]
  },
  {
   "cell_type": "code",
   "execution_count": null,
   "id": "0fe71a29",
   "metadata": {},
   "outputs": [],
   "source": []
  }
 ],
 "metadata": {
  "kernelspec": {
   "display_name": ".venv",
   "language": "python",
   "name": "python3"
  },
  "language_info": {
   "codemirror_mode": {
    "name": "ipython",
    "version": 3
   },
   "file_extension": ".py",
   "mimetype": "text/x-python",
   "name": "python",
   "nbconvert_exporter": "python",
   "pygments_lexer": "ipython3",
   "version": "3.13.3"
  }
 },
 "nbformat": 4,
 "nbformat_minor": 5
}
