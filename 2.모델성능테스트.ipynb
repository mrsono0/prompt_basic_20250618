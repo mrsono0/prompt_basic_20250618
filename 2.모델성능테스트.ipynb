{
 "cells": [
  {
   "cell_type": "markdown",
   "id": "2cf82b89",
   "metadata": {},
   "source": [
    "# 모델 성능 테스트"
   ]
  },
  {
   "cell_type": "code",
   "execution_count": null,
   "id": "c2f28fc2",
   "metadata": {},
   "outputs": [
    {
     "data": {
      "text/plain": [
       "True"
      ]
     },
     "execution_count": 3,
     "metadata": {},
     "output_type": "execute_result"
    }
   ],
   "source": [
    "from dotenv import load_dotenv\n",
    "import os\n",
    "from anthropic import Anthropic\n",
    "from IPython.display import display, Markdown\n",
    "load_dotenv()"
   ]
  },
  {
   "cell_type": "code",
   "execution_count": 2,
   "id": "6d110e0f",
   "metadata": {},
   "outputs": [],
   "source": [
    "client = Anthropic(api_key=os.getenv(\"ANTHROPIC_API_KEY\"))"
   ]
  },
  {
   "cell_type": "code",
   "execution_count": 8,
   "id": "df00e838",
   "metadata": {},
   "outputs": [],
   "source": [
    "def compare_models():\n",
    "  models = [\"claude-3-haiku-20240307\", \"claude-3-5-sonnet-20240620\", \"claude-3-opus-20240229\"]\n",
    "  task = \"\"\"\n",
    "    다음 문제를 해결하십시오.\n",
    "    <문제>\n",
    "    4명의 용의자 중 3명은 진실을 말하고, 1명은 거짓말을 합니다.\n",
    "    A는 B가 범인이다라고 말합니다.\n",
    "    B는 C가 범인이다라고 말합니다.\n",
    "    C는 D가 범인이다라고 말합니다.\n",
    "    D는 C가 범인이다라고 말합니다.\n",
    "    </문제>\n",
    "    이 문제에 대해서 해결할 수 없다면 해결할 수 없다고 말하십시오.\n",
    "  \"\"\"\n",
    "  for model in models:\n",
    "    # print(model)\n",
    "    answers = []\n",
    "    for _ in range(5):\n",
    "      response = client.messages.create(\n",
    "        model=model,\n",
    "        messages=[\n",
    "          {\"role\": \"user\", \"content\": task}\n",
    "        ],\n",
    "        max_tokens=1000,\n",
    "      )\n",
    "      answers.append(response.content[0].text)\n",
    "      answers.append(\"***\")\n",
    "    display(Markdown(f\"## Model: {model}\"))\n",
    "    for i, answer in enumerate(answers):\n",
    "      display(Markdown(f\"{i+1}. {answer}\"))\n",
    "      print(\"\\n\\n\")"
   ]
  },
  {
   "cell_type": "code",
   "execution_count": 9,
   "id": "767ae854",
   "metadata": {},
   "outputs": [
    {
     "data": {
      "text/markdown": [
       "## Model: claude-3-haiku-20240307"
      ],
      "text/plain": [
       "<IPython.core.display.Markdown object>"
      ]
     },
     "metadata": {},
     "output_type": "display_data"
    },
    {
     "data": {
      "text/markdown": [
       "1. 이 문제에 대한 해결책을 찾기는 어려워 보입니다. 주어진 정보만으로는 범인을 확실하게 특정할 수 없습니다.\n",
       "\n",
       "다음과 같은 이유로 해결이 어렵습니다:\n",
       "\n",
       "1. 4명의 용의자 중 3명은 진실을 말하고 1명은 거짓말을 한다고 하였는데, 어떤 용의자가 거짓말을 하는지 알 수 없습니다.\n",
       "\n",
       "2. A, B, C, D가 서로 다른 사람을 지목하고 있어, 이 정보만으로는 누가 범인인지 특정할 수 없습니다.\n",
       "\n",
       "3. 만약 B가 범인이라면 A와 B가 모순되는 말을 하고 있으므로, B가 범인이라는 것을 알 수 있습니다. 하지만 그 외의 경우에는 범인을 확정할 수 없습니다.\n",
       "\n",
       "따라서 주어진 정보만으로는 이 문제를 해결할 수 없다고 판단됩니다."
      ],
      "text/plain": [
       "<IPython.core.display.Markdown object>"
      ]
     },
     "metadata": {},
     "output_type": "display_data"
    },
    {
     "name": "stdout",
     "output_type": "stream",
     "text": [
      "\n",
      "\n",
      "\n"
     ]
    },
    {
     "data": {
      "text/markdown": [
       "2. ***"
      ],
      "text/plain": [
       "<IPython.core.display.Markdown object>"
      ]
     },
     "metadata": {},
     "output_type": "display_data"
    },
    {
     "name": "stdout",
     "output_type": "stream",
     "text": [
      "\n",
      "\n",
      "\n"
     ]
    },
    {
     "data": {
      "text/markdown": [
       "3. 이 문제를 해결하기 위해서는 다음과 같은 과정을 거칠 수 있습니다:\n",
       "\n",
       "1. A가 B가 범인이라고 말한 것은 진실이거나 거짓말일 수 있습니다. \n",
       "2. B가 C가 범인이라고 말한 것은 진실이거나 거짓말일 수 있습니다.\n",
       "3. C가 D가 범인이라고 말한 것은 진실이거나 거짓말일 수 있습니다.\n",
       "4. D가 C가 범인이라고 말한 것은 진실이거나 거짓말일 수 있습니다.\n",
       "\n",
       "이 정보만으로는 범인을 특정할 수 없습니다. 범인이 누구인지 정확하게 파악하기 위해서는 추가적인 정보가 필요합니다.\n",
       "\n",
       "따라서 이 문제는 해결할 수 없습니다."
      ],
      "text/plain": [
       "<IPython.core.display.Markdown object>"
      ]
     },
     "metadata": {},
     "output_type": "display_data"
    },
    {
     "name": "stdout",
     "output_type": "stream",
     "text": [
      "\n",
      "\n",
      "\n"
     ]
    },
    {
     "data": {
      "text/markdown": [
       "4. ***"
      ],
      "text/plain": [
       "<IPython.core.display.Markdown object>"
      ]
     },
     "metadata": {},
     "output_type": "display_data"
    },
    {
     "name": "stdout",
     "output_type": "stream",
     "text": [
      "\n",
      "\n",
      "\n"
     ]
    },
    {
     "data": {
      "text/markdown": [
       "5. 이 문제는 해결할 수 없습니다.\n",
       "\n",
       "이유는 다음과 같습니다:\n",
       "\n",
       "1. A는 B가 범인이라고 말하고, B는 C가 범인이라고 말합니다. 이 두 진술이 모순됩니다.\n",
       "\n",
       "2. C는 D가 범인이라고 말하고, D는 C가 범인이라고 말합니다. 이 두 진술 역시 모순됩니다.\n",
       "\n",
       "3. 4명의 용의자 중 3명은 진실을 말하고 1명은 거짓말을 한다고 했지만, 위의 진술들이 모순되므로 누가 거짓말을 하는지 알 수 없습니다.\n",
       "\n",
       "따라서 이 문제는 해결할 수 없습니다. 문제 진술에 모순이 있어서 범인을 특정할 수 없습니다."
      ],
      "text/plain": [
       "<IPython.core.display.Markdown object>"
      ]
     },
     "metadata": {},
     "output_type": "display_data"
    },
    {
     "name": "stdout",
     "output_type": "stream",
     "text": [
      "\n",
      "\n",
      "\n"
     ]
    },
    {
     "data": {
      "text/markdown": [
       "6. ***"
      ],
      "text/plain": [
       "<IPython.core.display.Markdown object>"
      ]
     },
     "metadata": {},
     "output_type": "display_data"
    },
    {
     "name": "stdout",
     "output_type": "stream",
     "text": [
      "\n",
      "\n",
      "\n"
     ]
    },
    {
     "data": {
      "text/markdown": [
       "7. 이 문제에 대해서는 해결할 수 없습니다.\n",
       "\n",
       "이 문제에서 주어진 정보만으로는 범인을 특정할 수 없습니다. 이 문제의 핵심은 3명이 진실을 말하고 1명이 거짓말을 한다는 것인데, 이를 바탕으로 범인을 정확히 찾아내기는 어렵습니다.\n",
       "\n",
       "예를 들면, A가 거짓말을 하고 있다면 B가 범인일 수 있지만, B가 거짓말을 하고 있다면 C가 범인일 수 있습니다. 또한 C나 D가 거짓말을 하고 있다면 범인은 누구인지 특정할 수 없습니다.\n",
       "\n",
       "따라서 이 문제에 대해서는 해결할 수 없다고 판단됩니다."
      ],
      "text/plain": [
       "<IPython.core.display.Markdown object>"
      ]
     },
     "metadata": {},
     "output_type": "display_data"
    },
    {
     "name": "stdout",
     "output_type": "stream",
     "text": [
      "\n",
      "\n",
      "\n"
     ]
    },
    {
     "data": {
      "text/markdown": [
       "8. ***"
      ],
      "text/plain": [
       "<IPython.core.display.Markdown object>"
      ]
     },
     "metadata": {},
     "output_type": "display_data"
    },
    {
     "name": "stdout",
     "output_type": "stream",
     "text": [
      "\n",
      "\n",
      "\n"
     ]
    },
    {
     "data": {
      "text/markdown": [
       "9. 이 문제에서 진실을 말하는 사람과 거짓말을 하는 사람을 구분하는 것은 쉽지 않습니다. 정보가 충분하지 않기 때문에 누가 범인인지 확실하게 판단할 수 없습니다.\n",
       "\n",
       "각 용의자의 진술을 살펴보면 다음과 같습니다:\n",
       "- A는 B가 범인이라고 말합니다.\n",
       "- B는 C가 범인이라고 말합니다.\n",
       "- C는 D가 범인이라고 말합니다.\n",
       "- D는 C가 범인이라고 말합니다.\n",
       "\n",
       "이 정보만으로는 누가 범인인지 결정할 수 없습니다. 각 용의자의 진술이 모순되기 때문에 어느 진술이 진실인지 판단할 수 없습니다.\n",
       "\n",
       "따라서 이 문제는 해결할 수 없습니다."
      ],
      "text/plain": [
       "<IPython.core.display.Markdown object>"
      ]
     },
     "metadata": {},
     "output_type": "display_data"
    },
    {
     "name": "stdout",
     "output_type": "stream",
     "text": [
      "\n",
      "\n",
      "\n"
     ]
    },
    {
     "data": {
      "text/markdown": [
       "10. ***"
      ],
      "text/plain": [
       "<IPython.core.display.Markdown object>"
      ]
     },
     "metadata": {},
     "output_type": "display_data"
    },
    {
     "name": "stdout",
     "output_type": "stream",
     "text": [
      "\n",
      "\n",
      "\n"
     ]
    },
    {
     "data": {
      "text/markdown": [
       "## Model: claude-3-5-sonnet-20240620"
      ],
      "text/plain": [
       "<IPython.core.display.Markdown object>"
      ]
     },
     "metadata": {},
     "output_type": "display_data"
    },
    {
     "data": {
      "text/markdown": [
       "1. 이 문제는 주어진 정보만으로는 정확히 누가 범인인지 결정할 수 없습니다. 그 이유는 다음과 같습니다:\n",
       "\n",
       "1. 4명 중 3명이 진실을 말하고 1명이 거짓말을 한다는 것은 알지만, 누가 거짓말을 하는지 특정할 수 없습니다.\n",
       "\n",
       "2. 각 사람의 진술이 서로 다른 사람을 가리키고 있어, 누구의 진술이 거짓인지 직접적으로 파악할 수 없습니다.\n",
       "\n",
       "3. 모든 가능한 경우의 수를 고려해봐도 하나의 명확한 답을 도출할 수 없습니다.\n",
       "\n",
       "따라서 이 문제는 주어진 정보만으로는 해결할 수 없습니다. 범인을 특정하기 위해서는 추가적인 정보나 단서가 필요할 것입니다."
      ],
      "text/plain": [
       "<IPython.core.display.Markdown object>"
      ]
     },
     "metadata": {},
     "output_type": "display_data"
    },
    {
     "name": "stdout",
     "output_type": "stream",
     "text": [
      "\n",
      "\n",
      "\n"
     ]
    },
    {
     "data": {
      "text/markdown": [
       "2. ***"
      ],
      "text/plain": [
       "<IPython.core.display.Markdown object>"
      ]
     },
     "metadata": {},
     "output_type": "display_data"
    },
    {
     "name": "stdout",
     "output_type": "stream",
     "text": [
      "\n",
      "\n",
      "\n"
     ]
    },
    {
     "data": {
      "text/markdown": [
       "3. 이 문제는 주어진 정보만으로는 명확하게 해결할 수 없습니다. 그 이유는 다음과 같습니다:\n",
       "\n",
       "1. 4명 중 3명이 진실을 말하고 1명이 거짓말을 한다는 것은 알지만, 누가 거짓말을 하는지 특정할 수 없습니다.\n",
       "\n",
       "2. 각 사람의 진술만으로는 누가 범인인지 확실하게 판단할 수 없습니다.\n",
       "\n",
       "3. 거짓말을 하는 사람이 누구냐에 따라 범인이 달라질 수 있습니다.\n",
       "\n",
       "4. 여러 가지 가능성이 존재하며, 이 중 어떤 것이 실제 상황인지 결정할 수 있는 추가 정보가 없습니다.\n",
       "\n",
       "따라서 주어진 정보만으로는 이 문제를 확실하게 해결할 수 없습니다. 범인을 특정하거나 거짓말을 하는 사람을 확실히 지목하기 위해서는 추가적인 정보나 단서가 필요합니다."
      ],
      "text/plain": [
       "<IPython.core.display.Markdown object>"
      ]
     },
     "metadata": {},
     "output_type": "display_data"
    },
    {
     "name": "stdout",
     "output_type": "stream",
     "text": [
      "\n",
      "\n",
      "\n"
     ]
    },
    {
     "data": {
      "text/markdown": [
       "4. ***"
      ],
      "text/plain": [
       "<IPython.core.display.Markdown object>"
      ]
     },
     "metadata": {},
     "output_type": "display_data"
    },
    {
     "name": "stdout",
     "output_type": "stream",
     "text": [
      "\n",
      "\n",
      "\n"
     ]
    },
    {
     "data": {
      "text/markdown": [
       "5. 이 문제는 주어진 정보만으로는 명확하게 해결할 수 없습니다.\n",
       "\n",
       "이유는 다음과 같습니다:\n",
       "\n",
       "1. 4명 중 3명이 진실을 말하고 1명이 거짓말을 한다는 조건이 있지만, 누가 거짓말을 하는지 특정할 수 없습니다.\n",
       "\n",
       "2. 각 사람의 진술이 서로 다르기 때문에, 적어도 한 명은 거짓말을 하고 있다는 것은 알 수 있습니다.\n",
       "\n",
       "3. 하지만 누가 범인인지, 그리고 누가 거짓말을 하고 있는지에 대해 여러 가지 가능성이 존재합니다.\n",
       "\n",
       "4. 예를 들어, C가 범인이고 D가 거짓말을 하는 경우, A, B, C가 진실을 말하는 상황이 가능합니다. 또는 B가 범인이고 A가 거짓말을 하는 경우도 가능합니다.\n",
       "\n",
       "따라서 주어진 정보만으로는 누가 범인인지, 누가 거짓말을 하고 있는지 확실하게 결정할 수 없습니다. 문제를 해결하기 위해서는 추가적인 정보나 조건이 필요합니다."
      ],
      "text/plain": [
       "<IPython.core.display.Markdown object>"
      ]
     },
     "metadata": {},
     "output_type": "display_data"
    },
    {
     "name": "stdout",
     "output_type": "stream",
     "text": [
      "\n",
      "\n",
      "\n"
     ]
    },
    {
     "data": {
      "text/markdown": [
       "6. ***"
      ],
      "text/plain": [
       "<IPython.core.display.Markdown object>"
      ]
     },
     "metadata": {},
     "output_type": "display_data"
    },
    {
     "name": "stdout",
     "output_type": "stream",
     "text": [
      "\n",
      "\n",
      "\n"
     ]
    },
    {
     "data": {
      "text/markdown": [
       "7. 이 문제는 주어진 정보만으로는 명확하게 해결할 수 없습니다.\n",
       "\n",
       "그 이유는 다음과 같습니다:\n",
       "\n",
       "1. 4명 중 3명이 진실을 말하고 1명이 거짓말을 한다는 것은 알지만, 누가 거짓말을 하는지 특정할 수 없습니다.\n",
       "\n",
       "2. 각 사람의 진술이 서로 다르기 때문에, 최소한 한 명은 거짓말을 하고 있다는 것은 확실합니다.\n",
       "\n",
       "3. 하지만 누가 거짓말을 하는지, 그리고 실제 범인이 누구인지를 결정하기 위한 추가 정보가 부족합니다.\n",
       "\n",
       "4. 예를 들어, A가 거짓말을 하고 나머지가 진실을 말한다고 가정하면 C가 범인일 수 있고, D가 거짓말을 하고 나머지가 진실을 말한다고 가정하면 B가 범인일 수 있습니다.\n",
       "\n",
       "따라서 이 문제는 주어진 정보만으로는 명확한 해답을 도출할 수 없습니다. 범인을 특정하거나 누가 거짓말을 하는지 확실하게 판단하기 위해서는 추가적인 정보나 단서가 필요합니다."
      ],
      "text/plain": [
       "<IPython.core.display.Markdown object>"
      ]
     },
     "metadata": {},
     "output_type": "display_data"
    },
    {
     "name": "stdout",
     "output_type": "stream",
     "text": [
      "\n",
      "\n",
      "\n"
     ]
    },
    {
     "data": {
      "text/markdown": [
       "8. ***"
      ],
      "text/plain": [
       "<IPython.core.display.Markdown object>"
      ]
     },
     "metadata": {},
     "output_type": "display_data"
    },
    {
     "name": "stdout",
     "output_type": "stream",
     "text": [
      "\n",
      "\n",
      "\n"
     ]
    },
    {
     "data": {
      "text/markdown": [
       "9. 이 문제는 주어진 정보만으로는 명확하게 해결할 수 없습니다.\n",
       "\n",
       "이유는 다음과 같습니다:\n",
       "\n",
       "1. 4명 중 3명이 진실을 말하고 1명이 거짓말을 한다는 것은 알지만, 누가 거짓말을 하는지 특정할 수 없습니다.\n",
       "\n",
       "2. 각 사람의 진술이 서로 연결되어 있어, 한 사람의 진실 여부가 다른 사람들의 진실 여부에 영향을 미칩니다.\n",
       "\n",
       "3. 범인이 누구인지 직접적으로 알려주는 정보가 없습니다.\n",
       "\n",
       "4. 여러 가지 가능성이 존재합니다. 예를 들어:\n",
       "   - A가 거짓말을 하고 나머지가 진실을 말한다면, D가 범인일 수 있습니다.\n",
       "   - B가 거짓말을 하고 나머지가 진실을 말한다면, A가 범인일 수 있습니다.\n",
       "   - C가 거짓말을 하고 나머지가 진실을 말한다면, B가 범인일 수 있습니다.\n",
       "   - D가 거짓말을 하고 나머지가 진실을 말한다면, C가 범인일 수 있습니다.\n",
       "\n",
       "따라서 주어진 정보만으로는 누가 범인인지, 누가 거짓말을 하는지 확실하게 결정할 수 없습니다. 추가적인 정보나 단서가 필요합니다."
      ],
      "text/plain": [
       "<IPython.core.display.Markdown object>"
      ]
     },
     "metadata": {},
     "output_type": "display_data"
    },
    {
     "name": "stdout",
     "output_type": "stream",
     "text": [
      "\n",
      "\n",
      "\n"
     ]
    },
    {
     "data": {
      "text/markdown": [
       "10. ***"
      ],
      "text/plain": [
       "<IPython.core.display.Markdown object>"
      ]
     },
     "metadata": {},
     "output_type": "display_data"
    },
    {
     "name": "stdout",
     "output_type": "stream",
     "text": [
      "\n",
      "\n",
      "\n"
     ]
    },
    {
     "data": {
      "text/markdown": [
       "## Model: claude-3-opus-20240229"
      ],
      "text/plain": [
       "<IPython.core.display.Markdown object>"
      ]
     },
     "metadata": {},
     "output_type": "display_data"
    },
    {
     "data": {
      "text/markdown": [
       "1. 이 문제는 해결할 수 없습니다. \n",
       "\n",
       "문제에서 제시된 정보만으로는 누가 진실을 말하고 누가 거짓말을 하는지 알 수 없기 때문입니다. \n",
       "\n",
       "만약 A가 진실을 말한다면 B가 범인이 되지만, 동시에 B도 진실을 말해야 하므로 C가 범인이 됩니다. 하지만 이것은 모순이 됩니다. \n",
       "\n",
       "이와 같이 나머지 경우도 모순이 발생하므로, 이 문제는 주어진 정보만으로는 해결이 불가능합니다."
      ],
      "text/plain": [
       "<IPython.core.display.Markdown object>"
      ]
     },
     "metadata": {},
     "output_type": "display_data"
    },
    {
     "name": "stdout",
     "output_type": "stream",
     "text": [
      "\n",
      "\n",
      "\n"
     ]
    },
    {
     "data": {
      "text/markdown": [
       "2. ***"
      ],
      "text/plain": [
       "<IPython.core.display.Markdown object>"
      ]
     },
     "metadata": {},
     "output_type": "display_data"
    },
    {
     "name": "stdout",
     "output_type": "stream",
     "text": [
      "\n",
      "\n",
      "\n"
     ]
    },
    {
     "data": {
      "text/markdown": [
       "3. 이 문제는 해결할 수 없습니다. \n",
       "\n",
       "A가 거짓말을 하는 경우, B는 진실을 말하므로 C가 범인이 됩니다. 하지만 C와 D의 진술이 서로 모순되기 때문에 이는 성립할 수 없습니다.\n",
       "\n",
       "B가 거짓말을 하는 경우, C는 진실을 말하므로 D가 범인이 됩니다. 하지만 이 경우에도 C와 D의 진술이 서로 모순되어 성립할 수 없습니다. \n",
       "\n",
       "C가 거짓말을 하는 경우, D는 진실을 말하므로 C 자신이 범인이 됩니다. 이는 논리적으로 모순입니다.\n",
       "\n",
       "D가 거짓말을 하는 경우, C는 진실을 말하므로 D 자신이 범인이 됩니다. 이 또한 논리적 모순입니다.\n",
       "\n",
       "따라서 주어진 조건들을 모두 만족하는 해답은 존재하지 않습니다. 이 문제는 해결할 수 없습니다."
      ],
      "text/plain": [
       "<IPython.core.display.Markdown object>"
      ]
     },
     "metadata": {},
     "output_type": "display_data"
    },
    {
     "name": "stdout",
     "output_type": "stream",
     "text": [
      "\n",
      "\n",
      "\n"
     ]
    },
    {
     "data": {
      "text/markdown": [
       "4. ***"
      ],
      "text/plain": [
       "<IPython.core.display.Markdown object>"
      ]
     },
     "metadata": {},
     "output_type": "display_data"
    },
    {
     "name": "stdout",
     "output_type": "stream",
     "text": [
      "\n",
      "\n",
      "\n"
     ]
    },
    {
     "data": {
      "text/markdown": [
       "5. 이 문제는 해결할 수 없습니다. \n",
       "\n",
       "주어진 정보로는 누가 진실을 말하고 누가 거짓말을 하는지 알 수 없기 때문에 범인을 특정할 수 없습니다. 4명 중 3명은 진실을 말하고 1명은 거짓말을 한다고 했지만, 각 사람이 말한 내용이 서로 모순되어 있어 논리적으로 모순이 발생합니다. \n",
       "\n",
       "따라서 주어진 정보만으로는 유일한 해답을 도출할 수 없습니다."
      ],
      "text/plain": [
       "<IPython.core.display.Markdown object>"
      ]
     },
     "metadata": {},
     "output_type": "display_data"
    },
    {
     "name": "stdout",
     "output_type": "stream",
     "text": [
      "\n",
      "\n",
      "\n"
     ]
    },
    {
     "data": {
      "text/markdown": [
       "6. ***"
      ],
      "text/plain": [
       "<IPython.core.display.Markdown object>"
      ]
     },
     "metadata": {},
     "output_type": "display_data"
    },
    {
     "name": "stdout",
     "output_type": "stream",
     "text": [
      "\n",
      "\n",
      "\n"
     ]
    },
    {
     "data": {
      "text/markdown": [
       "7. 이 문제는 해결할 수 없습니다. \n",
       "\n",
       "진실을 말하는 사람이 3명이고 거짓말을 하는 사람이 1명이라고 했으므로, \n",
       "A, B, C, D 중 3명의 진술이 참이고 1명의 진술이 거짓이어야 합니다. \n",
       "\n",
       "그런데 A, B, C, D의 진술을 살펴보면 서로 모순되므로 이들 중 3명의 진술이 동시에 참일 수 없습니다. \n",
       "즉, 문제에서 제시한 조건을 모두 만족시키는 해는 존재하지 않습니다."
      ],
      "text/plain": [
       "<IPython.core.display.Markdown object>"
      ]
     },
     "metadata": {},
     "output_type": "display_data"
    },
    {
     "name": "stdout",
     "output_type": "stream",
     "text": [
      "\n",
      "\n",
      "\n"
     ]
    },
    {
     "data": {
      "text/markdown": [
       "8. ***"
      ],
      "text/plain": [
       "<IPython.core.display.Markdown object>"
      ]
     },
     "metadata": {},
     "output_type": "display_data"
    },
    {
     "name": "stdout",
     "output_type": "stream",
     "text": [
      "\n",
      "\n",
      "\n"
     ]
    },
    {
     "data": {
      "text/markdown": [
       "9. 이 문제는 해결할 수 없습니다. \n",
       "\n",
       "주어진 조건만으로는 누가 거짓말을 하고 있는지, 누가 범인인지 명확하게 알 수 없기 때문입니다. \n",
       "\n",
       "만약 A가 거짓말을 한다면 B는 범인이 아니게 되고, B와 C의 진술이 맞아야 하므로 D가 범인이 됩니다. 하지만 이 경우 D의 진술은 거짓이 되어 모순이 발생합니다.\n",
       "\n",
       "반대로 A가 진실을 말한다면 B가 범인이어야 하지만, 이 경우 B의 진술은 거짓이 되고 C와 D 중 한 명이 거짓말을 해야 합니다. 하지만 이 경우에도 C와 D의 진술이 동시에 거짓이 되어 모순이 발생합니다.\n",
       "\n",
       "따라서 주어진 조건만으로는 일관성 있는 해답을 찾을 수 없습니다."
      ],
      "text/plain": [
       "<IPython.core.display.Markdown object>"
      ]
     },
     "metadata": {},
     "output_type": "display_data"
    },
    {
     "name": "stdout",
     "output_type": "stream",
     "text": [
      "\n",
      "\n",
      "\n"
     ]
    },
    {
     "data": {
      "text/markdown": [
       "10. ***"
      ],
      "text/plain": [
       "<IPython.core.display.Markdown object>"
      ]
     },
     "metadata": {},
     "output_type": "display_data"
    },
    {
     "name": "stdout",
     "output_type": "stream",
     "text": [
      "\n",
      "\n",
      "\n"
     ]
    }
   ],
   "source": [
    "compare_models()"
   ]
  },
  {
   "cell_type": "markdown",
   "id": "7dd023a5",
   "metadata": {},
   "source": [
    "# 모델 파라미터 테스트"
   ]
  },
  {
   "cell_type": "code",
   "execution_count": 13,
   "id": "d5c2c7e3",
   "metadata": {},
   "outputs": [],
   "source": [
    "prompt = \"\"\"당신은 주어진 입력을 바탕으로 인기 있는 소설을 작성하는 임무를 맡았습니다. 목표는 지정된 장르의 관행을 준수하면서 목표 독자층에게 어필하는 매력적이고 시장성 있는 이야기를 만드는 것입니다.\n",
    "\n",
    "<characters> \n",
    "주인공: 지민, 27세 여성. IT 회사 직원이지만 비밀리에 초능력을 가지고 있음. 목표는 능력을 숨기며 평범한 삶을 사는 것.\n",
    "남자 주인공: 준호, 30세 남성. 비밀 요원으로 초능력자들을 찾는 임무를 맡고 있음. 지민에게 끌리지만 의무와 감정 사이에서 갈등함.\n",
    "적대자: 서진, 35세 여성. 초능력자들을 이용해 세계를 지배하려는 비밀 조직의 리더.\n",
    "</characters>\n",
    "\n",
    "<plot> \n",
    "지민의 능력이 우연히 드러나면서 준호의 주목을 받게 됨. 둘은 서로를 경계하다가 점점 가까워지지만, 서진의 조직이 지민을 노리면서 위험에 빠짐. 준호와 지민은 힘을 합쳐 조직에 맞서 싸우며 사랑에 빠짐.\n",
    "</plot> \n",
    "\n",
    "<setting> \n",
    "서울의 번화가. 현대적인 도시 풍경과 첨단 기술, 그리고 숨겨진 초능력 세계가 공존하는 곳.\n",
    "</setting>\n",
    "\n",
    "<point_of_view>\n",
    "3인칭 제한적 시점. 주로 지민과 준호의 관점에서 이야기를 전개.\n",
    "</point_of_view>\n",
    "\n",
    "<conflict> \n",
    "내적 갈등: 지민의 정체성 혼란, 준호의 의무와 감정 사이의 갈등\n",
    "외적 갈등: 서진의 조직과의 대립, 사회의 편견과 두려움\n",
    "</conflict> \n",
    "\n",
    "<theme> \n",
    "진정한 자아 받아들이기, 신뢰와 사랑의 힘, 다름을 인정하는 사회\n",
    "</theme>\n",
    "\n",
    "<structure> \n",
    "3부 구조. 1부: 능력 발각과 만남, 2부: 관계 발전과 위기 고조, 3부: 최종 대결과 해결\n",
    "</structure>\n",
    "\n",
    "<style> \n",
    "현대적이고 감각적인 문체. 때로는 유머러스하게, 때로는 긴장감 있게 서술.\n",
    "</style>\n",
    "\n",
    "<dialogue> \n",
    "\"네 능력이 위험할 수 있어. 하지만 난 널 지키고 싶어.\" (준호)\n",
    "\"내 능력은 저주가 아니야. 이젠 알아. 이건 내 일부야.\" (지민)\n",
    "</dialogue>\n",
    "\n",
    "<description> \n",
    "\"지민의 손끝에서 푸른 빛이 춤추듯 일렁였다. 준호의 눈이 휘둥그레졌다. 서울의 밤하늘보다 더 아름다운 광경이었다.\"\n",
    "</description>\n",
    "\n",
    "<pacing> \n",
    "잔잔한 일상 묘사와 긴박한 액션 신을 번갈아가며 독자의 흥미를 유지.\n",
    "</pacing>\n",
    "\n",
    "위 소설의 구성 요소를 모두 활용해서 소설을 1부만 작성해주세요.\n",
    "\"\"\""
   ]
  },
  {
   "cell_type": "markdown",
   "id": "1467c6b0",
   "metadata": {},
   "source": [
    "## temperature"
   ]
  },
  {
   "cell_type": "code",
   "execution_count": 21,
   "id": "2e51a860",
   "metadata": {},
   "outputs": [
    {
     "data": {
      "text/markdown": [
       "<소설 1부: 숨겨진 능력>\n",
       "\n",
       "서울의 번화가, 강남역 근처. 화려한 네온사인과 첨단 기술로 가득한 거리를 지민이 빠르게 걸어가고 있었다. 27살, IT 회사 직원인 그녀의 외모는 평범해 보였지만, 누구도 모르는 비밀을 간직하고 있었다.\n",
       "\n",
       "\"오늘도 무사히 넘어갔네.\" 지민은 마음속으로 중얼거렸다. 그녀의 손끝이 미세하게 떨리자 푸른빛이 살짝 비쳤다. 놀란 지민은 재빨리 손을 주머니에 넣었다.\n",
       "\n",
       "같은 시각, 근처 카페에서 준호가 지민을 주시하고 있었다. 30살의 그는 비밀 요원으로, 초능력자들을 찾아내는 임무를 맡고 있었다. \n",
       "\n",
       "\"저 여자... 뭔가 수상한데.\" 준호는 눈을 좁히며 중얼거렸다.\n",
       "\n",
       "다음 날, 지민의 회사에서.\n",
       "\n",
       "\"지민 씨, 이번 프로젝트 발표 준비는 어떻게 돼가나요?\" 상사가 물었다.\n",
       "\n",
       "\"네, 거의 다 됐습니다. 내일까지 완벽하게 준비하겠습니다.\" 지민이 대답했다.\n",
       "\n",
       "그때 갑자기 회의실 천장의 형광등이 깜빡거리더니 폭발했다. 유리 파편이 지민을 향해 날아왔다.\n",
       "\n",
       "순간적으로 지민의 손에서 푸른 빛이 뿜어져 나와 유리 파편들을 공중에 멈추게 했다. 회의실은 순식간에 정적에 휩싸였다.\n",
       "\n",
       "\"이런...\" 지민은 자신도 모르게 내뱉었다.\n",
       "\n",
       "그 순간, 회의실 문이 열리며 준호가 들어왔다. 그의 눈이 휘둥그레졌다.\n",
       "\n",
       "\"역시 그랬군.\" 준호가 말했다.\n",
       "\n",
       "지민은 당황한 채 도망치려 했지만, 준호가 그녀의 팔을 잡았다.\n",
       "\n",
       "\"잠깐만요. 당신과 얘기할 게 있습니다.\"\n",
       "\n",
       "지민은 공포에 질린 눈으로 준호를 바라보았다.\n",
       "\n",
       "\"난... 난 그저 평범하게 살고 싶었을 뿐이에요.\" 지민이 떨리는 목소리로 말했다.\n",
       "\n",
       "준호의 표정이 부드러워졌다. \"알아요. 하지만 당신의 능력은 특별해요. 위험할 수도 있지만, 제가 도와드리고 싶습니다.\"\n",
       "\n",
       "그 순간, 건물 밖에서 폭발음이 들렸다. 준호와 지민은 창밖을 내다보았다.\n",
       "\n",
       "\"저건...\" 준호가 중얼거렸다.\n",
       "\n",
       "거리에는 검은 옷을 입은 사람들이 나타나 혼란을 일으키고 있었다. 그들 중앙에 서진이 서 있었다.\n",
       "\n",
       "\"초능력자들이여, 더 이상 숨지 마세요. 우리와 함께 이 세상을 지배할 시간입니다!\" 서진의 목소리가 울려 퍼졌다.\n",
       "\n",
       "준호는 지민을 바라보았다. \"이제 선택해야 해요. 도망칠 건가요, 아니면 맞서 싸울 건가요?\"\n",
       "\n",
       "지민은 잠시 망설였다. 그녀의 손에서 다시 푸른 빛이 일렁였다.\n",
       "\n",
       "\"도와주세요. 제 능력을 제대로 쓰는 법을 알고 싶어요.\" 지민이 결심한 듯 말했다.\n",
       "\n",
       "준호는 미소 지었다. \"좋아요. 함께 하죠.\"\n",
       "\n",
       "둘은 서로를 바라보며 고개를 끄덕였다. 이제 그들의 운명은 바뀌어버렸다. 평범한 삶을 꿈꾸던 지민과, 의무에 충실하던 준호. 이들의 만남은 서울의 숨겨진 세계를 뒤흔들 큰 변화의 시작이었다."
      ],
      "text/plain": [
       "<IPython.core.display.Markdown object>"
      ]
     },
     "metadata": {},
     "output_type": "display_data"
    }
   ],
   "source": [
    "response = client.messages.create(\n",
    "  model = \"claude-3-5-sonnet-20240620\",\n",
    "  messages = [\n",
    "    {\"role\": \"user\", \"content\": prompt},\n",
    "  ],\n",
    "  max_tokens=2048,\n",
    "  temperature=1,\n",
    ")\n",
    "display(Markdown(response.content[0].text))"
   ]
  },
  {
   "cell_type": "code",
   "execution_count": 19,
   "id": "d572b2db",
   "metadata": {},
   "outputs": [
    {
     "data": {
      "text/markdown": [
       "제 1부: 숨겨진 능력, 예기치 못한 만남\n",
       "\n",
       "서울의 번화가, 화려한 네온사인과 첨단 기술이 공존하는 도시의 한복판. 27세 지민은 매일 아침 이 복잡한 거리를 가로질러 출근길에 오른다. 겉으로 보기엔 평범한 IT 회사 직원이지만, 그녀의 내면에는 누구에게도 말할 수 없는 비밀이 숨겨져 있다.\n",
       "\n",
       "\"오늘도 무사히 지나가기를.\" 지민은 마음속으로 중얼거렸다. 그녀의 손끝이 살짝 떨리자, 순간 푸른빛이 일렁였다가 사라졌다. 지민은 재빨리 주먹을 꽉 쥐었다.\n",
       "\n",
       "같은 시각, 30세의 준호는 비밀 요원 사무실에서 새로운 임무 브리핑을 받고 있었다.\n",
       "\n",
       "\"최근 도심에서 초능력자로 의심되는 사람들의 목격 정보가 늘고 있습니다. 당신의 임무는 그들을 찾아 관리하는 것입니다.\"\n",
       "\n",
       "준호는 고개를 끄덕였지만, 마음 한구석이 불편했다. '과연 이게 옳은 일일까?'\n",
       "\n",
       "운명은 때때로 예기치 못한 방식으로 사람들을 만나게 한다. 그날 오후, 지민이 일하는 회사 건물 앞에서 갑작스러운 사고가 발생했다. 큰 트럭이 중심을 잃고 인도로 돌진하는 순간이었다.\n",
       "\n",
       "지민은 본능적으로 손을 뻗었다. 순간 강렬한 푸른 빛이 그녀의 손에서 뿜어져 나와 트럭을 감쌌다. 트럭은 공중에 떠서 천천히 바닥에 내려앉았다. 주변 사람들은 놀라 숨을 죽였다.\n",
       "\n",
       "그 광경을 목격한 준호의 눈이 휘둥그레졌다. \"서울의 밤하늘보다 더 아름다운 광경이었다.\" 그는 자신도 모르게 중얼거렸다.\n",
       "\n",
       "지민은 공포에 질린 채 주변을 둘러보았다. 그때 준호와 눈이 마주쳤다. 그의 눈빛에서 지민은 위험을 감지했다. 아무 말 없이 그녀는 달리기 시작했다.\n",
       "\n",
       "\"잠깐만요!\" 준호가 외쳤지만, 지민은 이미 골목 안으로 사라지고 있었다.\n",
       "\n",
       "그날 밤, 지민은 집에서 떨리는 손으로 TV를 켰다. 뉴스에서는 그날의 사고와 '미확인 초능력자'에 대해 떠들썩하게 보도하고 있었다.\n",
       "\n",
       "\"이제 어떡하지...\" 지민은 깊은 한숨을 내쉬었다.\n",
       "\n",
       "한편, 준호는 사무실에서 지민의 신원을 조회하고 있었다. 그의 마음속에서는 의무감과 호기심, 그리고 설명할 수 없는 끌림이 뒤섞여 있었다.\n",
       "\n",
       "\"네 능력이 위험할 수 있어. 하지만 난 널 지키고 싶어.\" 준호는 지민의 사진을 보며 혼잣말을 했다.\n",
       "\n",
       "도시 어딘가에서, 35세의 서진은 어두운 미소를 지으며 컴퓨터 화면을 응시했다. \"드디어 나타났군. 우리가 찾던 바로 그 능력자야.\"\n",
       "\n",
       "1부의 막이 내리며, 지민의 숨겨진 능력이 세상에 드러나고, 준호와의 운명적인 만남이 이루어졌다. 그리고 서진의 존재로 인해 앞으로 다가올 위험이 암시되었다. 지민은 이제 자신의 정체성과 새로운 현실 사이에서 갈등하게 될 것이다."
      ],
      "text/plain": [
       "<IPython.core.display.Markdown object>"
      ]
     },
     "metadata": {},
     "output_type": "display_data"
    }
   ],
   "source": [
    "response = client.messages.create(\n",
    "  model = \"claude-3-5-sonnet-20240620\",\n",
    "  messages = [\n",
    "    {\"role\": \"user\", \"content\": prompt},\n",
    "  ],\n",
    "  max_tokens=2048,\n",
    "  temperature=0,\n",
    ")\n",
    "display(Markdown(response.content[0].text))"
   ]
  },
  {
   "cell_type": "markdown",
   "id": "53b9b611",
   "metadata": {},
   "source": [
    "## max_tokens"
   ]
  },
  {
   "cell_type": "code",
   "execution_count": null,
   "id": "51f9b936",
   "metadata": {},
   "outputs": [
    {
     "data": {
      "text/markdown": [
       "제 1부: 숨"
      ],
      "text/plain": [
       "<IPython.core.display.Markdown object>"
      ]
     },
     "metadata": {},
     "output_type": "display_data"
    }
   ],
   "source": [
    "response = client.messages.create(\n",
    "    model=\"claude-3-5-sonnet-20240620\",\n",
    "    messages=[\n",
    "        {\"role\": \"user\", \"content\": prompt},\n",
    "    ],\n",
    "    max_tokens=10,\n",
    "    temperature=0,\n",
    ")\n",
    "display(Markdown(response.content[0].text))"
   ]
  },
  {
   "cell_type": "code",
   "execution_count": null,
   "id": "a8f7213f",
   "metadata": {},
   "outputs": [
    {
     "data": {
      "text/markdown": [
       "제 1부: 숨겨진 능력, 예기치 못한 만남\n",
       "\n",
       "서울의 번화가, 화려한 네온사인과 첨단 기술이 공존하는 도시의 한복판. 27세 지민은 매일 아침 이 복잡한 거리를 가로질러 출근길에 오른다. 겉으로 보기엔 평범한 IT 회사 직원이지만, 그녀의 내면에는 누구에게도 말할 수 없는 비밀이 숨겨져 있다.\n",
       "\n",
       "\"오늘도 무사히 지나가기를.\" 지민은 마음속으로 중얼거렸다. 그녀의 손끝이 미세하게 떨리자, 잠시 푸른빛이 일렁였다가 사라졌다. 지민은 재빨리 주먹을 꽉 쥐었다.\n",
       "\n",
       "같은 시각, 30세의 준호는 비밀 요원 사무실에서 새로운 임무 브리핑을 받고 있었다.\n",
       "\n",
       "\"최근 도심에서 초능력자로 의심되는 사람들의 활동이 포착되고 있습니다. 당신의 임무는 그들을 찾아내고 감시하는 것입니다.\"\n",
       "\n",
       "준호는 고개를 끄덕였다. \"알겠습니다. 즉시 수사에 착수하겠습니다.\"\n",
       "\n",
       "그날 저녁, 지민은 회사 동료들과 회식 자리에 참석했다. 술자리가 무르익어갈수록 그녀의 긴장도 풀어졌다. 그때였다. \n",
       "\n",
       "\""
      ],
      "text/plain": [
       "<IPython.core.display.Markdown object>"
      ]
     },
     "metadata": {},
     "output_type": "display_data"
    }
   ],
   "source": [
    "response = client.messages.create(\n",
    "    model=\"claude-3-5-sonnet-20240620\",\n",
    "    messages=[\n",
    "        {\"role\": \"user\", \"content\": prompt},\n",
    "    ],\n",
    "    max_tokens=512,\n",
    "    temperature=0,\n",
    ")\n",
    "display(Markdown(response.content[0].text))"
   ]
  },
  {
   "cell_type": "code",
   "execution_count": 24,
   "id": "6e4870ab",
   "metadata": {},
   "outputs": [
    {
     "data": {
      "text/markdown": [
       "[1부: 능력 발각과 만남]\n",
       "\n",
       "제1장\n",
       "\n",
       "서울의 밤은 언제나 화려했다. 번화가의 네온사인들이 밤하늘을 수놓는 가운데, 27세 지민은 퇴근길 인파 속을 헤치고 걸어가고 있었다. IT 회사에서의 또 다른 지루한 하루가 끝났다. 그녀의 손에 들린 스마트폰 화면에는 끝없는 알림들이 떠올랐다.\n",
       "\n",
       "\"휴, 오늘도 무사히 넘어갔네.\"\n",
       "\n",
       "지민은 한숨을 내쉬며 중얼거렸다. 그녀에겐 누구에게도 말할 수 없는 비밀이 있었다. 바로 초능력이었다. 어릴 때부터 깨달은 이 능력은 그녀의 삶을 완전히 바꿔놓았다. 하지만 지민은 이 능력을 저주라고 여겼고, 평범한 삶을 살기 위해 필사적으로 숨겨왔다.\n",
       "\n",
       "그때였다. \n",
       "\n",
       "\"꺄악!\"\n",
       "\n",
       "지민 앞에서 걸어가던 여성이 갑자기 비명을 지르며 넘어졌다. 순간 지민의 본능이 움직였다. 그녀의 손끝에서 푸른 빛이 일렁이더니, 넘어지는 여성을 감싸안듯 부드럽게 받쳐주었다.\n",
       "\n",
       "\"괜... 괜찮으세요?\"\n",
       "\n",
       "지민은 황급히 손을 거두며 물었다. 여성은 어리둥절한 표정으로 고개를 끄덕였다.\n",
       "\n",
       "\"네, 괜찮아요. 근데 방금 뭐였죠? 푸른 빛 같은 게...\"\n",
       "\n",
       "\"아, 그게... 저기 간판 불빛이...\"\n",
       "\n",
       "지민은 얼버무리며 그 자리를 벗어났다. 하지만 그녀는 알지 못했다. 저 멀리서 한 남자가 이 모든 광경을 지켜보고 있었다는 것을.\n",
       "\n",
       "제2장\n",
       "\n",
       "30세의 준호는 카페 창가에 앉아 커피를 마시며 거리를 주시하고 있었다. 그의 눈빛은 날카로웠고, 귀에 꽂힌 이어피스에서는 간간이 소리가 들려왔다.\n",
       "\n",
       "\"준호씨, 오늘도 특이사항 없나요?\"\n",
       "\n",
       "\"네, 본부장님. 아직까진...\"\n",
       "\n",
       "그때 준호의 눈에 푸른 빛이 들어왔다. 순간 그의 동공이 확장되었다.\n",
       "\n",
       "\"잠깐만요. 뭔가 보입니다.\"\n",
       "\n",
       "준호는 재빨리 자리에서 일어나 거리로 나섰다. 그의 시선은 한 여성을 좇고 있었다. \n",
       "\n",
       "'드디어 찾았나...'\n",
       "\n",
       "준호의 임무는 초능력자들을 찾아 관리하는 것이었다. 하지만 그의 마음 한구석에선 갈등이 일었다. 그들도 평범한 삶을 살 권리가 있지 않을까? \n",
       "\n",
       "제3장\n",
       "\n",
       "다음 날, 지민은 회사에서 평소와 다름없이 일하고 있었다. 그때 그녀의 책상 앞에 한 남자가 나타났다.\n",
       "\n",
       "\"안녕하세요. 새로 온 직원 준호라고 합니다.\"\n",
       "\n",
       "지민은 고개를 들어 그를 바라보았다. 단정한 외모에 부드러운 미소를 띤 남자였다. 하지만 왠지 모를 긴장감이 감돌았다.\n",
       "\n",
       "\"아, 네. 반갑습니다. 지민이에요.\"\n",
       "\n",
       "둘의 눈이 마주쳤다. 준호의 눈빛에서 지민은 무언가를 감지했다. 마치 그가 자신의 비밀을 알고 있는 것 같은 기분이 들었다.\n",
       "\n",
       "그날 이후, 준호는 자연스럽게 지민의 주변을 맴돌았다. 지민은 그를 경계하면서도 왠지 모르게 끌렸다. 준호 역시 임무와 감정 사이에서 혼란스러워했다.\n",
       "\n",
       "제4장\n",
       "\n",
       "몇 주가 지났다. 어느 날 밤, 지민은 회식 후 혼자 귀가하고 있었다. 술기운이 오른 탓에 평소보다 주의가 느슨해져 있었다.\n",
       "\n",
       "갑자기 어둠 속에서 검은 옷을 입은 남자들이 나타났다. 지민은 본능적으로 위험을 감지했다.\n",
       "\n",
       "\"네가 바로 그 능력자군.\"\n",
       "\n",
       "남자들이 다가오자 지민의 손에서 푸른 빛이 새어나왔다. 그녀는 더 이상 숨길 수 없었다.\n",
       "\n",
       "\"멈춰!\"\n",
       "\n",
       "그때 준호의 목소리가 들렸다. 그가 달려와 지민을 감쌌다.\n",
       "\n",
       "\"준호씨...?\"\n",
       "\n",
       "\"걱정 마. 내가 지켜줄게.\"\n",
       "\n",
       "준호의 눈빛은 진심이었다. 지민은 그제서야 자신의 능력을 온전히 받아들이기 시작했다.\n",
       "\n",
       "\"고마워요. 하지만 이건 내 싸움이에요.\"\n",
       "\n",
       "지민의 손에서 더욱 강렬한 푸른 빛이 뿜어져 나왔다. 검은 옷의 남자들은 눈부신 빛에 밀려났다.\n",
       "\n",
       "멀리서 그 광경을 지켜보던 한 여성이 있었다. 35세의 서진. 그녀의 입가에 미소가 번졌다.\n",
       "\n",
       "\"드디어 찾았군. 우리의 여왕을.\"\n",
       "\n",
       "1부의 끝에서, 지민과 준호는 서로를 향한 신뢰를 쌓아가기 시작했다. 하지만 그들은 알지 못했다. 더 큰 위험이 그들을 향해 다가오고 있다는 것을..."
      ],
      "text/plain": [
       "<IPython.core.display.Markdown object>"
      ]
     },
     "metadata": {},
     "output_type": "display_data"
    }
   ],
   "source": [
    "response = client.messages.create(\n",
    "    model=\"claude-3-5-sonnet-20240620\",\n",
    "    messages=[\n",
    "        {\"role\": \"user\", \"content\": prompt},\n",
    "    ],\n",
    "    max_tokens=5096,\n",
    "    temperature=0,\n",
    ")\n",
    "display(Markdown(response.content[0].text))"
   ]
  },
  {
   "cell_type": "markdown",
   "id": "03d2e8cd",
   "metadata": {},
   "source": [
    "## stop_sequence"
   ]
  },
  {
   "cell_type": "code",
   "execution_count": 25,
   "id": "0c7e2edb",
   "metadata": {},
   "outputs": [],
   "source": [
    "prompt2 = \"\"\"당신은 주어진 입력을 바탕으로 인기 있는 소설을 작성하는 임무를 맡았습니다. 목표는 지정된 장르의 관행을 준수하면서 목표 독자층에게 어필하는 매력적이고 시장성 있는 이야기를 만드는 것입니다.\n",
    "\n",
    "<characters> \n",
    "주인공: 지민, 27세 여성. IT 회사 직원이지만 비밀리에 초능력을 가지고 있음. 목표는 능력을 숨기며 평범한 삶을 사는 것.\n",
    "남자 주인공: 준호, 30세 남성. 비밀 요원으로 초능력자들을 찾는 임무를 맡고 있음. 지민에게 끌리지만 의무와 감정 사이에서 갈등함.\n",
    "적대자: 서진, 35세 여성. 초능력자들을 이용해 세계를 지배하려는 비밀 조직의 리더.\n",
    "</characters>\n",
    "\n",
    "<plot> \n",
    "지민의 능력이 우연히 드러나면서 준호의 주목을 받게 됨. 둘은 서로를 경계하다가 점점 가까워지지만, 서진의 조직이 지민을 노리면서 위험에 빠짐. 준호와 지민은 힘을 합쳐 조직에 맞서 싸우며 사랑에 빠짐.\n",
    "</plot> \n",
    "\n",
    "<setting> \n",
    "서울의 번화가. 현대적인 도시 풍경과 첨단 기술, 그리고 숨겨진 초능력 세계가 공존하는 곳.\n",
    "</setting>\n",
    "\n",
    "<point_of_view>\n",
    "3인칭 제한적 시점. 주로 지민과 준호의 관점에서 이야기를 전개.\n",
    "</point_of_view>\n",
    "\n",
    "<conflict> \n",
    "내적 갈등: 지민의 정체성 혼란, 준호의 의무와 감정 사이의 갈등\n",
    "외적 갈등: 서진의 조직과의 대립, 사회의 편견과 두려움\n",
    "</conflict> \n",
    "\n",
    "<theme> \n",
    "진정한 자아 받아들이기, 신뢰와 사랑의 힘, 다름을 인정하는 사회\n",
    "</theme>\n",
    "\n",
    "<structure> \n",
    "3부 구조. 1부: 능력 발각과 만남, 2부: 관계 발전과 위기 고조, 3부: 최종 대결과 해결\n",
    "</structure>\n",
    "\n",
    "<style> \n",
    "현대적이고 감각적인 문체. 때로는 유머러스하게, 때로는 긴장감 있게 서술.\n",
    "</style>\n",
    "\n",
    "<dialogue> \n",
    "\"네 능력이 위험할 수 있어. 하지만 난 널 지키고 싶어.\" (준호)\n",
    "\"내 능력은 저주가 아니야. 이젠 알아. 이건 내 일부야.\" (지민)\n",
    "</dialogue>\n",
    "\n",
    "<description> \n",
    "\"지민의 손끝에서 푸른 빛이 춤추듯 일렁였다. 준호의 눈이 휘둥그레졌다. 서울의 밤하늘보다 더 아름다운 광경이었다.\"\n",
    "</description>\n",
    "\n",
    "<pacing> \n",
    "잔잔한 일상 묘사와 긴박한 액션 신을 번갈아가며 독자의 흥미를 유지.\n",
    "</pacing>\n",
    "\n",
    "위 소설의 구성 요소를 모두 활용해서 소설을 1부만 작성해주세요.\n",
    "\n",
    "소설의 출력은 다음 output_format에 태그를 따라서 출력해주세요.\n",
    "<output_format>\n",
    "{{\n",
    "  \"title\": \"소설의 제목\",\n",
    "  \"content\": \"소설의 내용\",\n",
    "}}\n",
    "</output_format>\n",
    "\"\"\""
   ]
  },
  {
   "cell_type": "code",
   "execution_count": 26,
   "id": "d569aaab",
   "metadata": {},
   "outputs": [
    {
     "data": {
      "text/plain": [
       "'}}\\n</output_format>\\n'"
      ]
     },
     "execution_count": 26,
     "metadata": {},
     "output_type": "execute_result"
    }
   ],
   "source": [
    "prompt2[-20:]"
   ]
  },
  {
   "cell_type": "code",
   "execution_count": 27,
   "id": "095e77e7",
   "metadata": {},
   "outputs": [
    {
     "data": {
      "text/markdown": [
       "<output_format>\n",
       "{\n",
       "  \"title\": \"숨겨진 빛\",\n",
       "  \"content\": \"서울의 밤거리는 네온사인과 차들의 헤드라이트로 반짝였다. 그 화려한 불빛 속에서 지민은 자신의 내면에 숨겨진 또 다른 빛을 감추려 애쓰고 있었다.\n",
       "\n",
       "27살의 평범한 IT 회사 직원. 그녀의 이력서에는 그렇게 적혀 있었다. 하지만 지민의 손끝에서 때때로 일렁이는 푸른 빛은 그녀가 결코 평범하지 않다는 것을 증명했다.\n",
       "\n",
       "\"오늘도 무사히 넘어갔네.\" 지민은 한숨을 내쉬며 회사 건물을 빠져나왔다. 그녀의 목표는 단 하나. 이 능력을 숨기고 평범하게 살아가는 것. 하지만 운명은 그녀에게 다른 계획을 준비하고 있었다.\n",
       "\n",
       "그날 밤, 어두운 골목에서 우연히 마주친 강도. 지민의 본능적인 반응으로 그녀의 손에서 푸른 빛이 폭발하듯 터져 나왔다. 강도는 그 자리에서 기절했고, 지민은 공포에 질려 그 자리를 벗어났다.\n",
       "\n",
       "하지만 그 순간을 목격한 한 남자가 있었다.\n",
       "\n",
       "준호는 30살의 비밀 요원. 그의 임무는 지민 같은 초능력자들을 찾아내는 것이었다. 그는 어둠 속에서 지민을 지켜보며 중얼거렸다.\n",
       "\n",
       "\"드디어 찾았군.\"\n",
       "\n",
       "다음 날, 지민의 회사에 새로운 직원이 들어왔다. 바로 준호였다.\n",
       "\n",
       "\"안녕하세요, 새로 온 정준호입니다. 잘 부탁드립니다.\"\n",
       "\n",
       "준호의 눈빛이 지민을 향했다. 지민은 왠지 모를 불안감에 몸을 떨었다.\n",
       "\n",
       "그렇게 지민과 준호의 숨바꼭질이 시작되었다. 준호는 지민의 정체를 밝히려 노력했고, 지민은 필사적으로 자신의 비밀을 지키려 했다.\n",
       "\n",
       "하지만 그들 모두 알지 못했다. 서진이라는 여자가 그들을 주시하고 있다는 것을. 35살의 서진은 초능력자들을 이용해 세계를 지배하려는 비밀 조직의 리더였다. 그녀의 눈에 지민은 완벽한 '무기'였다.\n",
       "\n",
       "\"저 여자를 데려와. 어떤 수를 써서라도.\" 서진은 부하에게 명령했다.\n",
       "\n",
       "한편, 지민과 준호 사이에는 미묘한 긴장감이 흐르고 있었다. 준호는 임무와 감정 사이에서 갈등했고, 지민은 준호에 대한 경계심과 동시에 묘한 끌림을 느꼈다.\n",
       "\n",
       "\"혹시... 어젯밤 일 못 보셨나요?\" 지민이 조심스럽게 물었다.\n",
       "\n",
       "준호는 잠시 망설이다 대답했다. \"무슨 일인데요?\"\n",
       "\n",
       "그 순간, 회사 건물이 크게 흔들렸다. 창밖으로 검은 연기가 피어올랐다.\n",
       "\n",
       "\"모두 대피하세요!\" 누군가 소리쳤다.\n",
       "\n",
       "혼란 속에서 준호는 본능적으로 지민의 손을 잡았다. 그 순간 지민의 손에서 푸른 빛이 새어나왔다.\n",
       "\n",
       "준호의 눈이 휘둥그레졌다. \"네가... 정말로...\"\n",
       "\n",
       "지민은 공포에 질린 얼굴로 준호를 바라봤다. 그녀의 비밀이 드러난 것이다.\n",
       "\n",
       "하지만 지금은 그것을 걱정할 시간이 없었다. 검은 연기 속에서 서진의 부하들이 나타나고 있었다.\n",
       "\n",
       "1부의 끝. 지민의 능력이 드러나고, 준호와의 관계가 새로운 국면을 맞이하며, 서진의 위협이 본격화되는 순간이었다.\"\n"
      ],
      "text/plain": [
       "<IPython.core.display.Markdown object>"
      ]
     },
     "metadata": {},
     "output_type": "display_data"
    }
   ],
   "source": [
    "response = client.messages.create(\n",
    "    model=\"claude-3-5-sonnet-20240620\",\n",
    "    messages=[\n",
    "        {\"role\": \"user\", \"content\": prompt2},\n",
    "    ],\n",
    "    max_tokens=2048,\n",
    "    temperature=0,\n",
    "    stop_sequences=[\"}\"]\n",
    ")\n",
    "display(Markdown(response.content[0].text))"
   ]
  },
  {
   "cell_type": "code",
   "execution_count": 28,
   "id": "44a62cf1",
   "metadata": {},
   "outputs": [
    {
     "data": {
      "text/plain": [
       "'<output_format>\\n{\\n  \"title\": \"숨겨진 빛\",\\n  \"content\": \"서울의 밤거리는 네온사인과 차들의 헤드라이트로 반짝였다. 그 화려한 불빛 속에서 지민은 자신의 내면에 숨겨진 또 다른 빛을 감추려 애쓰고 있었다.\\n\\n27살의 평범한 IT 회사 직원. 그녀의 이력서에는 그렇게 적혀 있었다. 하지만 지민의 손끝에서 때때로 일렁이는 푸른 빛은 그녀가 결코 평범하지 않다는 것을 증명했다.\\n\\n\"오늘도 무사히 넘어갔네.\" 지민은 한숨을 내쉬며 회사 건물을 빠져나왔다. 그녀의 목표는 단 하나. 이 능력을 숨기고 평범하게 살아가는 것. 하지만 운명은 그녀에게 다른 계획을 준비하고 있었다.\\n\\n그날 밤, 어두운 골목에서 우연히 마주친 강도. 지민의 본능적인 반응으로 그녀의 손에서 푸른 빛이 폭발하듯 터져 나왔다. 강도는 그 자리에서 기절했고, 지민은 공포에 질려 그 자리를 벗어났다.\\n\\n하지만 그 순간을 목격한 한 남자가 있었다.\\n\\n준호는 30살의 비밀 요원. 그의 임무는 지민 같은 초능력자들을 찾아내는 것이었다. 그는 어둠 속에서 지민을 지켜보며 중얼거렸다.\\n\\n\"드디어 찾았군.\"\\n\\n다음 날, 지민의 회사에 새로운 직원이 들어왔다. 바로 준호였다.\\n\\n\"안녕하세요, 새로 온 정준호입니다. 잘 부탁드립니다.\"\\n\\n준호의 눈빛이 지민을 향했다. 지민은 왠지 모를 불안감에 몸을 떨었다.\\n\\n그렇게 지민과 준호의 숨바꼭질이 시작되었다. 준호는 지민의 정체를 밝히려 노력했고, 지민은 필사적으로 자신의 비밀을 지키려 했다.\\n\\n하지만 그들 모두 알지 못했다. 서진이라는 여자가 그들을 주시하고 있다는 것을. 35살의 서진은 초능력자들을 이용해 세계를 지배하려는 비밀 조직의 리더였다. 그녀의 눈에 지민은 완벽한 \\'무기\\'였다.\\n\\n\"저 여자를 데려와. 어떤 수를 써서라도.\" 서진은 부하에게 명령했다.\\n\\n한편, 지민과 준호 사이에는 미묘한 긴장감이 흐르고 있었다. 준호는 임무와 감정 사이에서 갈등했고, 지민은 준호에 대한 경계심과 동시에 묘한 끌림을 느꼈다.\\n\\n\"혹시... 어젯밤 일 못 보셨나요?\" 지민이 조심스럽게 물었다.\\n\\n준호는 잠시 망설이다 대답했다. \"무슨 일인데요?\"\\n\\n그 순간, 회사 건물이 크게 흔들렸다. 창밖으로 검은 연기가 피어올랐다.\\n\\n\"모두 대피하세요!\" 누군가 소리쳤다.\\n\\n혼란 속에서 준호는 본능적으로 지민의 손을 잡았다. 그 순간 지민의 손에서 푸른 빛이 새어나왔다.\\n\\n준호의 눈이 휘둥그레졌다. \"네가... 정말로...\"\\n\\n지민은 공포에 질린 얼굴로 준호를 바라봤다. 그녀의 비밀이 드러난 것이다.\\n\\n하지만 지금은 그것을 걱정할 시간이 없었다. 검은 연기 속에서 서진의 부하들이 나타나고 있었다.\\n\\n1부의 끝. 지민의 능력이 드러나고, 준호와의 관계가 새로운 국면을 맞이하며, 서진의 위협이 본격화되는 순간이었다.\"\\n}'"
      ]
     },
     "execution_count": 28,
     "metadata": {},
     "output_type": "execute_result"
    }
   ],
   "source": [
    "response.content[0].text + \"}\""
   ]
  },
  {
   "cell_type": "code",
   "execution_count": null,
   "id": "08bed85a",
   "metadata": {},
   "outputs": [],
   "source": []
  }
 ],
 "metadata": {
  "kernelspec": {
   "display_name": ".venv",
   "language": "python",
   "name": "python3"
  },
  "language_info": {
   "codemirror_mode": {
    "name": "ipython",
    "version": 3
   },
   "file_extension": ".py",
   "mimetype": "text/x-python",
   "name": "python",
   "nbconvert_exporter": "python",
   "pygments_lexer": "ipython3",
   "version": "3.13.3"
  }
 },
 "nbformat": 4,
 "nbformat_minor": 5
}
