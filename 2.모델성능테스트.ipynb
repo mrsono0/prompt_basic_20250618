{
 "cells": [
  {
   "cell_type": "code",
   "execution_count": null,
   "id": "c2f28fc2",
   "metadata": {},
   "outputs": [
    {
     "data": {
      "text/plain": [
       "True"
      ]
     },
     "execution_count": 3,
     "metadata": {},
     "output_type": "execute_result"
    }
   ],
   "source": [
    "from dotenv import load_dotenv\n",
    "import os\n",
    "from anthropic import Anthropic\n",
    "from IPython.display import display, Markdown\n",
    "load_dotenv()"
   ]
  },
  {
   "cell_type": "code",
   "execution_count": 2,
   "id": "6d110e0f",
   "metadata": {},
   "outputs": [],
   "source": [
    "client = Anthropic(api_key=os.getenv(\"ANTHROPIC_API_KEY\"))"
   ]
  },
  {
   "cell_type": "code",
   "execution_count": 8,
   "id": "df00e838",
   "metadata": {},
   "outputs": [],
   "source": [
    "def compare_models():\n",
    "  models = [\"claude-3-haiku-20240307\", \"claude-3-5-sonnet-20240620\", \"claude-3-opus-20240229\"]\n",
    "  task = \"\"\"\n",
    "    다음 문제를 해결하십시오.\n",
    "    <문제>\n",
    "    4명의 용의자 중 3명은 진실을 말하고, 1명은 거짓말을 합니다.\n",
    "    A는 B가 범인이다라고 말합니다.\n",
    "    B는 C가 범인이다라고 말합니다.\n",
    "    C는 D가 범인이다라고 말합니다.\n",
    "    D는 C가 범인이다라고 말합니다.\n",
    "    </문제>\n",
    "    이 문제에 대해서 해결할 수 없다면 해결할 수 없다고 말하십시오.\n",
    "  \"\"\"\n",
    "  for model in models:\n",
    "    # print(model)\n",
    "    answers = []\n",
    "    for _ in range(5):\n",
    "      response = client.messages.create(\n",
    "        model=model,\n",
    "        messages=[\n",
    "          {\"role\": \"user\", \"content\": task}\n",
    "        ],\n",
    "        max_tokens=1000,\n",
    "      )\n",
    "      answers.append(response.content[0].text)\n",
    "      answers.append(\"***\")\n",
    "    display(Markdown(f\"## Model: {model}\"))\n",
    "    for i, answer in enumerate(answers):\n",
    "      display(Markdown(f\"{i+1}. {answer}\"))\n",
    "      print(\"\\n\\n\")"
   ]
  },
  {
   "cell_type": "code",
   "execution_count": 9,
   "id": "767ae854",
   "metadata": {},
   "outputs": [
    {
     "data": {
      "text/markdown": [
       "## Model: claude-3-haiku-20240307"
      ],
      "text/plain": [
       "<IPython.core.display.Markdown object>"
      ]
     },
     "metadata": {},
     "output_type": "display_data"
    },
    {
     "data": {
      "text/markdown": [
       "1. 이 문제에 대한 해결책을 찾기는 어려워 보입니다. 주어진 정보만으로는 범인을 확실하게 특정할 수 없습니다.\n",
       "\n",
       "다음과 같은 이유로 해결이 어렵습니다:\n",
       "\n",
       "1. 4명의 용의자 중 3명은 진실을 말하고 1명은 거짓말을 한다고 하였는데, 어떤 용의자가 거짓말을 하는지 알 수 없습니다.\n",
       "\n",
       "2. A, B, C, D가 서로 다른 사람을 지목하고 있어, 이 정보만으로는 누가 범인인지 특정할 수 없습니다.\n",
       "\n",
       "3. 만약 B가 범인이라면 A와 B가 모순되는 말을 하고 있으므로, B가 범인이라는 것을 알 수 있습니다. 하지만 그 외의 경우에는 범인을 확정할 수 없습니다.\n",
       "\n",
       "따라서 주어진 정보만으로는 이 문제를 해결할 수 없다고 판단됩니다."
      ],
      "text/plain": [
       "<IPython.core.display.Markdown object>"
      ]
     },
     "metadata": {},
     "output_type": "display_data"
    },
    {
     "name": "stdout",
     "output_type": "stream",
     "text": [
      "\n",
      "\n",
      "\n"
     ]
    },
    {
     "data": {
      "text/markdown": [
       "2. ***"
      ],
      "text/plain": [
       "<IPython.core.display.Markdown object>"
      ]
     },
     "metadata": {},
     "output_type": "display_data"
    },
    {
     "name": "stdout",
     "output_type": "stream",
     "text": [
      "\n",
      "\n",
      "\n"
     ]
    },
    {
     "data": {
      "text/markdown": [
       "3. 이 문제를 해결하기 위해서는 다음과 같은 과정을 거칠 수 있습니다:\n",
       "\n",
       "1. A가 B가 범인이라고 말한 것은 진실이거나 거짓말일 수 있습니다. \n",
       "2. B가 C가 범인이라고 말한 것은 진실이거나 거짓말일 수 있습니다.\n",
       "3. C가 D가 범인이라고 말한 것은 진실이거나 거짓말일 수 있습니다.\n",
       "4. D가 C가 범인이라고 말한 것은 진실이거나 거짓말일 수 있습니다.\n",
       "\n",
       "이 정보만으로는 범인을 특정할 수 없습니다. 범인이 누구인지 정확하게 파악하기 위해서는 추가적인 정보가 필요합니다.\n",
       "\n",
       "따라서 이 문제는 해결할 수 없습니다."
      ],
      "text/plain": [
       "<IPython.core.display.Markdown object>"
      ]
     },
     "metadata": {},
     "output_type": "display_data"
    },
    {
     "name": "stdout",
     "output_type": "stream",
     "text": [
      "\n",
      "\n",
      "\n"
     ]
    },
    {
     "data": {
      "text/markdown": [
       "4. ***"
      ],
      "text/plain": [
       "<IPython.core.display.Markdown object>"
      ]
     },
     "metadata": {},
     "output_type": "display_data"
    },
    {
     "name": "stdout",
     "output_type": "stream",
     "text": [
      "\n",
      "\n",
      "\n"
     ]
    },
    {
     "data": {
      "text/markdown": [
       "5. 이 문제는 해결할 수 없습니다.\n",
       "\n",
       "이유는 다음과 같습니다:\n",
       "\n",
       "1. A는 B가 범인이라고 말하고, B는 C가 범인이라고 말합니다. 이 두 진술이 모순됩니다.\n",
       "\n",
       "2. C는 D가 범인이라고 말하고, D는 C가 범인이라고 말합니다. 이 두 진술 역시 모순됩니다.\n",
       "\n",
       "3. 4명의 용의자 중 3명은 진실을 말하고 1명은 거짓말을 한다고 했지만, 위의 진술들이 모순되므로 누가 거짓말을 하는지 알 수 없습니다.\n",
       "\n",
       "따라서 이 문제는 해결할 수 없습니다. 문제 진술에 모순이 있어서 범인을 특정할 수 없습니다."
      ],
      "text/plain": [
       "<IPython.core.display.Markdown object>"
      ]
     },
     "metadata": {},
     "output_type": "display_data"
    },
    {
     "name": "stdout",
     "output_type": "stream",
     "text": [
      "\n",
      "\n",
      "\n"
     ]
    },
    {
     "data": {
      "text/markdown": [
       "6. ***"
      ],
      "text/plain": [
       "<IPython.core.display.Markdown object>"
      ]
     },
     "metadata": {},
     "output_type": "display_data"
    },
    {
     "name": "stdout",
     "output_type": "stream",
     "text": [
      "\n",
      "\n",
      "\n"
     ]
    },
    {
     "data": {
      "text/markdown": [
       "7. 이 문제에 대해서는 해결할 수 없습니다.\n",
       "\n",
       "이 문제에서 주어진 정보만으로는 범인을 특정할 수 없습니다. 이 문제의 핵심은 3명이 진실을 말하고 1명이 거짓말을 한다는 것인데, 이를 바탕으로 범인을 정확히 찾아내기는 어렵습니다.\n",
       "\n",
       "예를 들면, A가 거짓말을 하고 있다면 B가 범인일 수 있지만, B가 거짓말을 하고 있다면 C가 범인일 수 있습니다. 또한 C나 D가 거짓말을 하고 있다면 범인은 누구인지 특정할 수 없습니다.\n",
       "\n",
       "따라서 이 문제에 대해서는 해결할 수 없다고 판단됩니다."
      ],
      "text/plain": [
       "<IPython.core.display.Markdown object>"
      ]
     },
     "metadata": {},
     "output_type": "display_data"
    },
    {
     "name": "stdout",
     "output_type": "stream",
     "text": [
      "\n",
      "\n",
      "\n"
     ]
    },
    {
     "data": {
      "text/markdown": [
       "8. ***"
      ],
      "text/plain": [
       "<IPython.core.display.Markdown object>"
      ]
     },
     "metadata": {},
     "output_type": "display_data"
    },
    {
     "name": "stdout",
     "output_type": "stream",
     "text": [
      "\n",
      "\n",
      "\n"
     ]
    },
    {
     "data": {
      "text/markdown": [
       "9. 이 문제에서 진실을 말하는 사람과 거짓말을 하는 사람을 구분하는 것은 쉽지 않습니다. 정보가 충분하지 않기 때문에 누가 범인인지 확실하게 판단할 수 없습니다.\n",
       "\n",
       "각 용의자의 진술을 살펴보면 다음과 같습니다:\n",
       "- A는 B가 범인이라고 말합니다.\n",
       "- B는 C가 범인이라고 말합니다.\n",
       "- C는 D가 범인이라고 말합니다.\n",
       "- D는 C가 범인이라고 말합니다.\n",
       "\n",
       "이 정보만으로는 누가 범인인지 결정할 수 없습니다. 각 용의자의 진술이 모순되기 때문에 어느 진술이 진실인지 판단할 수 없습니다.\n",
       "\n",
       "따라서 이 문제는 해결할 수 없습니다."
      ],
      "text/plain": [
       "<IPython.core.display.Markdown object>"
      ]
     },
     "metadata": {},
     "output_type": "display_data"
    },
    {
     "name": "stdout",
     "output_type": "stream",
     "text": [
      "\n",
      "\n",
      "\n"
     ]
    },
    {
     "data": {
      "text/markdown": [
       "10. ***"
      ],
      "text/plain": [
       "<IPython.core.display.Markdown object>"
      ]
     },
     "metadata": {},
     "output_type": "display_data"
    },
    {
     "name": "stdout",
     "output_type": "stream",
     "text": [
      "\n",
      "\n",
      "\n"
     ]
    },
    {
     "data": {
      "text/markdown": [
       "## Model: claude-3-5-sonnet-20240620"
      ],
      "text/plain": [
       "<IPython.core.display.Markdown object>"
      ]
     },
     "metadata": {},
     "output_type": "display_data"
    },
    {
     "data": {
      "text/markdown": [
       "1. 이 문제는 주어진 정보만으로는 정확히 누가 범인인지 결정할 수 없습니다. 그 이유는 다음과 같습니다:\n",
       "\n",
       "1. 4명 중 3명이 진실을 말하고 1명이 거짓말을 한다는 것은 알지만, 누가 거짓말을 하는지 특정할 수 없습니다.\n",
       "\n",
       "2. 각 사람의 진술이 서로 다른 사람을 가리키고 있어, 누구의 진술이 거짓인지 직접적으로 파악할 수 없습니다.\n",
       "\n",
       "3. 모든 가능한 경우의 수를 고려해봐도 하나의 명확한 답을 도출할 수 없습니다.\n",
       "\n",
       "따라서 이 문제는 주어진 정보만으로는 해결할 수 없습니다. 범인을 특정하기 위해서는 추가적인 정보나 단서가 필요할 것입니다."
      ],
      "text/plain": [
       "<IPython.core.display.Markdown object>"
      ]
     },
     "metadata": {},
     "output_type": "display_data"
    },
    {
     "name": "stdout",
     "output_type": "stream",
     "text": [
      "\n",
      "\n",
      "\n"
     ]
    },
    {
     "data": {
      "text/markdown": [
       "2. ***"
      ],
      "text/plain": [
       "<IPython.core.display.Markdown object>"
      ]
     },
     "metadata": {},
     "output_type": "display_data"
    },
    {
     "name": "stdout",
     "output_type": "stream",
     "text": [
      "\n",
      "\n",
      "\n"
     ]
    },
    {
     "data": {
      "text/markdown": [
       "3. 이 문제는 주어진 정보만으로는 명확하게 해결할 수 없습니다. 그 이유는 다음과 같습니다:\n",
       "\n",
       "1. 4명 중 3명이 진실을 말하고 1명이 거짓말을 한다는 것은 알지만, 누가 거짓말을 하는지 특정할 수 없습니다.\n",
       "\n",
       "2. 각 사람의 진술만으로는 누가 범인인지 확실하게 판단할 수 없습니다.\n",
       "\n",
       "3. 거짓말을 하는 사람이 누구냐에 따라 범인이 달라질 수 있습니다.\n",
       "\n",
       "4. 여러 가지 가능성이 존재하며, 이 중 어떤 것이 실제 상황인지 결정할 수 있는 추가 정보가 없습니다.\n",
       "\n",
       "따라서 주어진 정보만으로는 이 문제를 확실하게 해결할 수 없습니다. 범인을 특정하거나 거짓말을 하는 사람을 확실히 지목하기 위해서는 추가적인 정보나 단서가 필요합니다."
      ],
      "text/plain": [
       "<IPython.core.display.Markdown object>"
      ]
     },
     "metadata": {},
     "output_type": "display_data"
    },
    {
     "name": "stdout",
     "output_type": "stream",
     "text": [
      "\n",
      "\n",
      "\n"
     ]
    },
    {
     "data": {
      "text/markdown": [
       "4. ***"
      ],
      "text/plain": [
       "<IPython.core.display.Markdown object>"
      ]
     },
     "metadata": {},
     "output_type": "display_data"
    },
    {
     "name": "stdout",
     "output_type": "stream",
     "text": [
      "\n",
      "\n",
      "\n"
     ]
    },
    {
     "data": {
      "text/markdown": [
       "5. 이 문제는 주어진 정보만으로는 명확하게 해결할 수 없습니다.\n",
       "\n",
       "이유는 다음과 같습니다:\n",
       "\n",
       "1. 4명 중 3명이 진실을 말하고 1명이 거짓말을 한다는 조건이 있지만, 누가 거짓말을 하는지 특정할 수 없습니다.\n",
       "\n",
       "2. 각 사람의 진술이 서로 다르기 때문에, 적어도 한 명은 거짓말을 하고 있다는 것은 알 수 있습니다.\n",
       "\n",
       "3. 하지만 누가 범인인지, 그리고 누가 거짓말을 하고 있는지에 대해 여러 가지 가능성이 존재합니다.\n",
       "\n",
       "4. 예를 들어, C가 범인이고 D가 거짓말을 하는 경우, A, B, C가 진실을 말하는 상황이 가능합니다. 또는 B가 범인이고 A가 거짓말을 하는 경우도 가능합니다.\n",
       "\n",
       "따라서 주어진 정보만으로는 누가 범인인지, 누가 거짓말을 하고 있는지 확실하게 결정할 수 없습니다. 문제를 해결하기 위해서는 추가적인 정보나 조건이 필요합니다."
      ],
      "text/plain": [
       "<IPython.core.display.Markdown object>"
      ]
     },
     "metadata": {},
     "output_type": "display_data"
    },
    {
     "name": "stdout",
     "output_type": "stream",
     "text": [
      "\n",
      "\n",
      "\n"
     ]
    },
    {
     "data": {
      "text/markdown": [
       "6. ***"
      ],
      "text/plain": [
       "<IPython.core.display.Markdown object>"
      ]
     },
     "metadata": {},
     "output_type": "display_data"
    },
    {
     "name": "stdout",
     "output_type": "stream",
     "text": [
      "\n",
      "\n",
      "\n"
     ]
    },
    {
     "data": {
      "text/markdown": [
       "7. 이 문제는 주어진 정보만으로는 명확하게 해결할 수 없습니다.\n",
       "\n",
       "그 이유는 다음과 같습니다:\n",
       "\n",
       "1. 4명 중 3명이 진실을 말하고 1명이 거짓말을 한다는 것은 알지만, 누가 거짓말을 하는지 특정할 수 없습니다.\n",
       "\n",
       "2. 각 사람의 진술이 서로 다르기 때문에, 최소한 한 명은 거짓말을 하고 있다는 것은 확실합니다.\n",
       "\n",
       "3. 하지만 누가 거짓말을 하는지, 그리고 실제 범인이 누구인지를 결정하기 위한 추가 정보가 부족합니다.\n",
       "\n",
       "4. 예를 들어, A가 거짓말을 하고 나머지가 진실을 말한다고 가정하면 C가 범인일 수 있고, D가 거짓말을 하고 나머지가 진실을 말한다고 가정하면 B가 범인일 수 있습니다.\n",
       "\n",
       "따라서 이 문제는 주어진 정보만으로는 명확한 해답을 도출할 수 없습니다. 범인을 특정하거나 누가 거짓말을 하는지 확실하게 판단하기 위해서는 추가적인 정보나 단서가 필요합니다."
      ],
      "text/plain": [
       "<IPython.core.display.Markdown object>"
      ]
     },
     "metadata": {},
     "output_type": "display_data"
    },
    {
     "name": "stdout",
     "output_type": "stream",
     "text": [
      "\n",
      "\n",
      "\n"
     ]
    },
    {
     "data": {
      "text/markdown": [
       "8. ***"
      ],
      "text/plain": [
       "<IPython.core.display.Markdown object>"
      ]
     },
     "metadata": {},
     "output_type": "display_data"
    },
    {
     "name": "stdout",
     "output_type": "stream",
     "text": [
      "\n",
      "\n",
      "\n"
     ]
    },
    {
     "data": {
      "text/markdown": [
       "9. 이 문제는 주어진 정보만으로는 명확하게 해결할 수 없습니다.\n",
       "\n",
       "이유는 다음과 같습니다:\n",
       "\n",
       "1. 4명 중 3명이 진실을 말하고 1명이 거짓말을 한다는 것은 알지만, 누가 거짓말을 하는지 특정할 수 없습니다.\n",
       "\n",
       "2. 각 사람의 진술이 서로 연결되어 있어, 한 사람의 진실 여부가 다른 사람들의 진실 여부에 영향을 미칩니다.\n",
       "\n",
       "3. 범인이 누구인지 직접적으로 알려주는 정보가 없습니다.\n",
       "\n",
       "4. 여러 가지 가능성이 존재합니다. 예를 들어:\n",
       "   - A가 거짓말을 하고 나머지가 진실을 말한다면, D가 범인일 수 있습니다.\n",
       "   - B가 거짓말을 하고 나머지가 진실을 말한다면, A가 범인일 수 있습니다.\n",
       "   - C가 거짓말을 하고 나머지가 진실을 말한다면, B가 범인일 수 있습니다.\n",
       "   - D가 거짓말을 하고 나머지가 진실을 말한다면, C가 범인일 수 있습니다.\n",
       "\n",
       "따라서 주어진 정보만으로는 누가 범인인지, 누가 거짓말을 하는지 확실하게 결정할 수 없습니다. 추가적인 정보나 단서가 필요합니다."
      ],
      "text/plain": [
       "<IPython.core.display.Markdown object>"
      ]
     },
     "metadata": {},
     "output_type": "display_data"
    },
    {
     "name": "stdout",
     "output_type": "stream",
     "text": [
      "\n",
      "\n",
      "\n"
     ]
    },
    {
     "data": {
      "text/markdown": [
       "10. ***"
      ],
      "text/plain": [
       "<IPython.core.display.Markdown object>"
      ]
     },
     "metadata": {},
     "output_type": "display_data"
    },
    {
     "name": "stdout",
     "output_type": "stream",
     "text": [
      "\n",
      "\n",
      "\n"
     ]
    },
    {
     "data": {
      "text/markdown": [
       "## Model: claude-3-opus-20240229"
      ],
      "text/plain": [
       "<IPython.core.display.Markdown object>"
      ]
     },
     "metadata": {},
     "output_type": "display_data"
    },
    {
     "data": {
      "text/markdown": [
       "1. 이 문제는 해결할 수 없습니다. \n",
       "\n",
       "문제에서 제시된 정보만으로는 누가 진실을 말하고 누가 거짓말을 하는지 알 수 없기 때문입니다. \n",
       "\n",
       "만약 A가 진실을 말한다면 B가 범인이 되지만, 동시에 B도 진실을 말해야 하므로 C가 범인이 됩니다. 하지만 이것은 모순이 됩니다. \n",
       "\n",
       "이와 같이 나머지 경우도 모순이 발생하므로, 이 문제는 주어진 정보만으로는 해결이 불가능합니다."
      ],
      "text/plain": [
       "<IPython.core.display.Markdown object>"
      ]
     },
     "metadata": {},
     "output_type": "display_data"
    },
    {
     "name": "stdout",
     "output_type": "stream",
     "text": [
      "\n",
      "\n",
      "\n"
     ]
    },
    {
     "data": {
      "text/markdown": [
       "2. ***"
      ],
      "text/plain": [
       "<IPython.core.display.Markdown object>"
      ]
     },
     "metadata": {},
     "output_type": "display_data"
    },
    {
     "name": "stdout",
     "output_type": "stream",
     "text": [
      "\n",
      "\n",
      "\n"
     ]
    },
    {
     "data": {
      "text/markdown": [
       "3. 이 문제는 해결할 수 없습니다. \n",
       "\n",
       "A가 거짓말을 하는 경우, B는 진실을 말하므로 C가 범인이 됩니다. 하지만 C와 D의 진술이 서로 모순되기 때문에 이는 성립할 수 없습니다.\n",
       "\n",
       "B가 거짓말을 하는 경우, C는 진실을 말하므로 D가 범인이 됩니다. 하지만 이 경우에도 C와 D의 진술이 서로 모순되어 성립할 수 없습니다. \n",
       "\n",
       "C가 거짓말을 하는 경우, D는 진실을 말하므로 C 자신이 범인이 됩니다. 이는 논리적으로 모순입니다.\n",
       "\n",
       "D가 거짓말을 하는 경우, C는 진실을 말하므로 D 자신이 범인이 됩니다. 이 또한 논리적 모순입니다.\n",
       "\n",
       "따라서 주어진 조건들을 모두 만족하는 해답은 존재하지 않습니다. 이 문제는 해결할 수 없습니다."
      ],
      "text/plain": [
       "<IPython.core.display.Markdown object>"
      ]
     },
     "metadata": {},
     "output_type": "display_data"
    },
    {
     "name": "stdout",
     "output_type": "stream",
     "text": [
      "\n",
      "\n",
      "\n"
     ]
    },
    {
     "data": {
      "text/markdown": [
       "4. ***"
      ],
      "text/plain": [
       "<IPython.core.display.Markdown object>"
      ]
     },
     "metadata": {},
     "output_type": "display_data"
    },
    {
     "name": "stdout",
     "output_type": "stream",
     "text": [
      "\n",
      "\n",
      "\n"
     ]
    },
    {
     "data": {
      "text/markdown": [
       "5. 이 문제는 해결할 수 없습니다. \n",
       "\n",
       "주어진 정보로는 누가 진실을 말하고 누가 거짓말을 하는지 알 수 없기 때문에 범인을 특정할 수 없습니다. 4명 중 3명은 진실을 말하고 1명은 거짓말을 한다고 했지만, 각 사람이 말한 내용이 서로 모순되어 있어 논리적으로 모순이 발생합니다. \n",
       "\n",
       "따라서 주어진 정보만으로는 유일한 해답을 도출할 수 없습니다."
      ],
      "text/plain": [
       "<IPython.core.display.Markdown object>"
      ]
     },
     "metadata": {},
     "output_type": "display_data"
    },
    {
     "name": "stdout",
     "output_type": "stream",
     "text": [
      "\n",
      "\n",
      "\n"
     ]
    },
    {
     "data": {
      "text/markdown": [
       "6. ***"
      ],
      "text/plain": [
       "<IPython.core.display.Markdown object>"
      ]
     },
     "metadata": {},
     "output_type": "display_data"
    },
    {
     "name": "stdout",
     "output_type": "stream",
     "text": [
      "\n",
      "\n",
      "\n"
     ]
    },
    {
     "data": {
      "text/markdown": [
       "7. 이 문제는 해결할 수 없습니다. \n",
       "\n",
       "진실을 말하는 사람이 3명이고 거짓말을 하는 사람이 1명이라고 했으므로, \n",
       "A, B, C, D 중 3명의 진술이 참이고 1명의 진술이 거짓이어야 합니다. \n",
       "\n",
       "그런데 A, B, C, D의 진술을 살펴보면 서로 모순되므로 이들 중 3명의 진술이 동시에 참일 수 없습니다. \n",
       "즉, 문제에서 제시한 조건을 모두 만족시키는 해는 존재하지 않습니다."
      ],
      "text/plain": [
       "<IPython.core.display.Markdown object>"
      ]
     },
     "metadata": {},
     "output_type": "display_data"
    },
    {
     "name": "stdout",
     "output_type": "stream",
     "text": [
      "\n",
      "\n",
      "\n"
     ]
    },
    {
     "data": {
      "text/markdown": [
       "8. ***"
      ],
      "text/plain": [
       "<IPython.core.display.Markdown object>"
      ]
     },
     "metadata": {},
     "output_type": "display_data"
    },
    {
     "name": "stdout",
     "output_type": "stream",
     "text": [
      "\n",
      "\n",
      "\n"
     ]
    },
    {
     "data": {
      "text/markdown": [
       "9. 이 문제는 해결할 수 없습니다. \n",
       "\n",
       "주어진 조건만으로는 누가 거짓말을 하고 있는지, 누가 범인인지 명확하게 알 수 없기 때문입니다. \n",
       "\n",
       "만약 A가 거짓말을 한다면 B는 범인이 아니게 되고, B와 C의 진술이 맞아야 하므로 D가 범인이 됩니다. 하지만 이 경우 D의 진술은 거짓이 되어 모순이 발생합니다.\n",
       "\n",
       "반대로 A가 진실을 말한다면 B가 범인이어야 하지만, 이 경우 B의 진술은 거짓이 되고 C와 D 중 한 명이 거짓말을 해야 합니다. 하지만 이 경우에도 C와 D의 진술이 동시에 거짓이 되어 모순이 발생합니다.\n",
       "\n",
       "따라서 주어진 조건만으로는 일관성 있는 해답을 찾을 수 없습니다."
      ],
      "text/plain": [
       "<IPython.core.display.Markdown object>"
      ]
     },
     "metadata": {},
     "output_type": "display_data"
    },
    {
     "name": "stdout",
     "output_type": "stream",
     "text": [
      "\n",
      "\n",
      "\n"
     ]
    },
    {
     "data": {
      "text/markdown": [
       "10. ***"
      ],
      "text/plain": [
       "<IPython.core.display.Markdown object>"
      ]
     },
     "metadata": {},
     "output_type": "display_data"
    },
    {
     "name": "stdout",
     "output_type": "stream",
     "text": [
      "\n",
      "\n",
      "\n"
     ]
    }
   ],
   "source": [
    "compare_models()"
   ]
  },
  {
   "cell_type": "code",
   "execution_count": null,
   "id": "3c11fb49",
   "metadata": {},
   "outputs": [],
   "source": []
  }
 ],
 "metadata": {
  "kernelspec": {
   "display_name": ".venv",
   "language": "python",
   "name": "python3"
  },
  "language_info": {
   "codemirror_mode": {
    "name": "ipython",
    "version": 3
   },
   "file_extension": ".py",
   "mimetype": "text/x-python",
   "name": "python",
   "nbconvert_exporter": "python",
   "pygments_lexer": "ipython3",
   "version": "3.13.3"
  }
 },
 "nbformat": 4,
 "nbformat_minor": 5
}
