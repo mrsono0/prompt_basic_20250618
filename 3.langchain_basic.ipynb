{
 "cells": [
  {
   "cell_type": "code",
   "execution_count": 1,
   "id": "e2193aea",
   "metadata": {},
   "outputs": [
    {
     "name": "stdout",
     "output_type": "stream",
     "text": [
      "OPENAI_API_KEY:  sk-proj-pw\n"
     ]
    }
   ],
   "source": [
    "from dotenv import load_dotenv\n",
    "import os\n",
    "print(\"OPENAI_API_KEY: \", os.getenv(\"OPENAI_API_KEY\")[:10])"
   ]
  },
  {
   "cell_type": "markdown",
   "id": "7b89bb4d",
   "metadata": {},
   "source": [
    "# PromptTemplate"
   ]
  },
  {
   "cell_type": "code",
   "execution_count": 2,
   "id": "abc3d62e",
   "metadata": {},
   "outputs": [],
   "source": [
    "from langchain_core.prompts import PromptTemplate"
   ]
  },
  {
   "cell_type": "code",
   "execution_count": 3,
   "id": "3f366908",
   "metadata": {},
   "outputs": [],
   "source": [
    "template = \"What is a good name for a company that makes {product}?\"\n",
    "prompt = PromptTemplate.from_template(template)"
   ]
  },
  {
   "cell_type": "code",
   "execution_count": 4,
   "id": "80e697cf",
   "metadata": {},
   "outputs": [
    {
     "name": "stdout",
     "output_type": "stream",
     "text": [
      "What is a good name for a company that makes colorful socks?\n"
     ]
    }
   ],
   "source": [
    "formatted_prompt = prompt.format(product=\"colorful socks\")\n",
    "print(formatted_prompt)"
   ]
  },
  {
   "cell_type": "markdown",
   "id": "eee47d3a",
   "metadata": {},
   "source": [
    "# ChatOpenAI"
   ]
  },
  {
   "cell_type": "code",
   "execution_count": 5,
   "id": "6eab420d",
   "metadata": {},
   "outputs": [],
   "source": [
    "from langchain_openai import ChatOpenAI"
   ]
  },
  {
   "cell_type": "code",
   "execution_count": 6,
   "id": "d6687d1e",
   "metadata": {},
   "outputs": [],
   "source": [
    "llm = ChatOpenAI(model=\"gpt-4.1-nano\", max_tokens=50, temperature=0.2)"
   ]
  },
  {
   "cell_type": "code",
   "execution_count": 8,
   "id": "1f929008",
   "metadata": {},
   "outputs": [
    {
     "name": "stdout",
     "output_type": "stream",
     "text": [
      "content=\"Hello! I'm doing well, thank you. How can I assist you today?\" additional_kwargs={'refusal': None} response_metadata={'token_usage': {'completion_tokens': 16, 'prompt_tokens': 14, 'total_tokens': 30, 'completion_tokens_details': {'accepted_prediction_tokens': 0, 'audio_tokens': 0, 'reasoning_tokens': 0, 'rejected_prediction_tokens': 0}, 'prompt_tokens_details': {'audio_tokens': 0, 'cached_tokens': 0}}, 'model_name': 'gpt-4.1-nano-2025-04-14', 'system_fingerprint': 'fp_f12167b370', 'id': 'chatcmpl-Bk1xyd8uGvRNckGihV4nFg5SW7k2c', 'service_tier': 'default', 'finish_reason': 'stop', 'logprobs': None} id='run--7b7b75e1-07f1-48a0-8d22-4828d083d0e5-0' usage_metadata={'input_tokens': 14, 'output_tokens': 16, 'total_tokens': 30, 'input_token_details': {'audio': 0, 'cache_read': 0}, 'output_token_details': {'audio': 0, 'reasoning': 0}}\n",
      "Hello! I'm doing well, thank you. How can I assist you today?\n"
     ]
    }
   ],
   "source": [
    "response = llm.invoke([(\"human\", \"Hello, hwo are you?\")])\n",
    "print(response)\n",
    "print(response.content)"
   ]
  },
  {
   "cell_type": "markdown",
   "id": "deb3cd37",
   "metadata": {},
   "source": [
    "# Runnabel\n",
    "- Runnable 인터페이스 : 실행 가능 구성 요소  \n",
    "- 서로 다른 컴포넌트들이 호환되는 형태로 결할 될 수 있게 만들어 준다."
   ]
  },
  {
   "cell_type": "markdown",
   "id": "10364d93",
   "metadata": {},
   "source": [
    "# StrOutputParser"
   ]
  },
  {
   "cell_type": "code",
   "execution_count": 9,
   "id": "da1ef4c3",
   "metadata": {},
   "outputs": [],
   "source": [
    "from langchain_core.output_parsers import StrOutputParser"
   ]
  },
  {
   "cell_type": "code",
   "execution_count": 10,
   "id": "b926028b",
   "metadata": {},
   "outputs": [
    {
     "name": "stdout",
     "output_type": "stream",
     "text": [
      "Hello! I'm doing well, thank you. How can I assist you today?\n"
     ]
    }
   ],
   "source": [
    "parser = StrOutputParser()\n",
    "parsed_response = parser.invoke(response)\n",
    "print(parsed_response)"
   ]
  },
  {
   "cell_type": "markdown",
   "id": "5118ee8f",
   "metadata": {},
   "source": [
    "# Pipeline, LCEL (LangChain Expression Language)"
   ]
  },
  {
   "cell_type": "code",
   "execution_count": 11,
   "id": "6bc38a2b",
   "metadata": {},
   "outputs": [],
   "source": [
    "chain = prompt | llm | parser # PromptTemplate -> ChatOpenAI -> StrOutputParser"
   ]
  },
  {
   "cell_type": "code",
   "execution_count": 12,
   "id": "aa0f8422",
   "metadata": {},
   "outputs": [
    {
     "name": "stdout",
     "output_type": "stream",
     "text": [
      "Sure! Here are some creative and appealing name ideas for a coffee company:\n",
      "\n",
      "1. Brew Haven  \n",
      "2. Java Junction  \n",
      "3. Morning Mug  \n",
      "4. Bean & Bliss  \n",
      "5. Rise & Roast  \n",
      "6. Caffeine Craft  \n",
      "7.\n"
     ]
    }
   ],
   "source": [
    "result = chain.invoke({\"product\": \"coffee\"})\n",
    "print(result)"
   ]
  },
  {
   "cell_type": "markdown",
   "id": "f39c7e12",
   "metadata": {},
   "source": [
    "# LangChain으로 토큰 사용량 추적"
   ]
  },
  {
   "cell_type": "code",
   "execution_count": 13,
   "id": "c898095b",
   "metadata": {},
   "outputs": [
    {
     "name": "stdout",
     "output_type": "stream",
     "text": [
      "토큰 사용 정보 :  {'input_tokens': 14, 'output_tokens': 16, 'total_tokens': 30, 'input_token_details': {'audio': 0, 'cache_read': 0}, 'output_token_details': {'audio': 0, 'reasoning': 0}}\n"
     ]
    }
   ],
   "source": [
    "print(\"토큰 사용 정보 : \", response.usage_metadata)"
   ]
  },
  {
   "cell_type": "code",
   "execution_count": null,
   "id": "8064ec6e",
   "metadata": {},
   "outputs": [],
   "source": [
    "# !uv add langchain_community"
   ]
  },
  {
   "cell_type": "code",
   "execution_count": 15,
   "id": "4c502fd7",
   "metadata": {},
   "outputs": [],
   "source": [
    "# 콜백을 통한 누적 토큰 추적\n",
    "from langchain_community.callbacks import get_openai_callback"
   ]
  },
  {
   "cell_type": "code",
   "execution_count": 17,
   "id": "cb68c219",
   "metadata": {},
   "outputs": [
    {
     "name": "stdout",
     "output_type": "stream",
     "text": [
      "응답:  죄송하지만, 현재 실시간 날씨 정보를 제공할 수 없습니 ...\n",
      "응답:  물론입니다! 파이썬에서 리스트를 만드는 방법에는 여러  ...\n"
     ]
    }
   ],
   "source": [
    "with get_openai_callback() as cb:\n",
    "  res1 = llm.invoke(\"조치원의 오늘 날씨는 어떤지 알려줘?\")\n",
    "  print(\"응답: \", res1.content[:30], \"...\")\n",
    "  res2 = llm.invoke(\"파이썬으로 리스트 만드는 방법을 예시로 알려줘.\")\n",
    "  print(\"응답: \", res2.content[:30], \"...\")\n",
    "  "
   ]
  },
  {
   "cell_type": "code",
   "execution_count": 18,
   "id": "4a03ff83",
   "metadata": {},
   "outputs": [
    {
     "name": "stdout",
     "output_type": "stream",
     "text": [
      "총 토큰 수 : 131\n",
      "프롬프트 토큰 : 41\n",
      "응답 토큰 : 90\n",
      "총 비용 : 0.000040\n"
     ]
    }
   ],
   "source": [
    "print(f\"총 토큰 수 : {cb.total_tokens}\")\n",
    "print(f\"프롬프트 토큰 : {cb.prompt_tokens}\")\n",
    "print(f\"응답 토큰 : {cb.completion_tokens}\")\n",
    "print(f\"총 비용 : {cb.total_cost:.6f}\")"
   ]
  },
  {
   "cell_type": "markdown",
   "id": "69320df5",
   "metadata": {},
   "source": [
    "# LangChain LLM 응답 캐싱"
   ]
  },
  {
   "cell_type": "code",
   "execution_count": 19,
   "id": "b99695e3",
   "metadata": {},
   "outputs": [],
   "source": [
    "from langchain_core.caches import InMemoryCache\n",
    "from langchain_core.globals import set_llm_cache\n",
    "# InMemoryCache 설정\n",
    "set_llm_cache(InMemoryCache())"
   ]
  },
  {
   "cell_type": "code",
   "execution_count": 20,
   "id": "b46f01b1",
   "metadata": {},
   "outputs": [
    {
     "name": "stdout",
     "output_type": "stream",
     "text": [
      "응답1:  물론이죠! 여기 재미있는 과학자 유머 하나 알려드릴게요:\n",
      "\n",
      "왜 천문학자는 항상 좋은 농담을 좋아할까요?  \n",
      "왜냐하면, 그들은 항상 별(별) 이야기를 좋아하\n"
     ]
    }
   ],
   "source": [
    "query = \"재미있는 과학자 유머 하나 알려줘.\"\n",
    "result1 = llm.invoke(query)\n",
    "print(\"응답1: \", result1.content)"
   ]
  },
  {
   "cell_type": "code",
   "execution_count": 21,
   "id": "4208a71e",
   "metadata": {},
   "outputs": [
    {
     "name": "stdout",
     "output_type": "stream",
     "text": [
      "응답2:  물론이죠! 여기 재미있는 과학자 유머 하나 알려드릴게요:\n",
      "\n",
      "왜 천문학자는 항상 좋은 농담을 좋아할까요?  \n",
      "왜냐하면, 그들은 항상 별(별) 이야기를 좋아하\n"
     ]
    }
   ],
   "source": [
    "result2 = llm.invoke(query)\n",
    "print(\"응답2: \", result2.content)"
   ]
  },
  {
   "cell_type": "code",
   "execution_count": 24,
   "id": "102e50a0",
   "metadata": {},
   "outputs": [],
   "source": [
    "# SQLite 를 이용 디스크 기반 캐시 설정\n",
    "import os \n",
    "from langchain_community.cache import SQLiteCache"
   ]
  },
  {
   "cell_type": "code",
   "execution_count": 25,
   "id": "6d811995",
   "metadata": {},
   "outputs": [],
   "source": [
    "# 기존 캐시 DB 삭제 (실슬을 위해서!!!)\n",
    "if os.path.exists(\".langchain_cache.db\"):\n",
    "  os.remove(\".langchain_cache.db\")\n",
    "\n",
    "# SQLiteCache 설정\n",
    "set_llm_cache(SQLiteCache(database_path=\".langchain_cache.db\"))"
   ]
  },
  {
   "cell_type": "code",
   "execution_count": 26,
   "id": "ace73ace",
   "metadata": {},
   "outputs": [
    {
     "name": "stdout",
     "output_type": "stream",
     "text": [
      "응답1:  물론이죠! 여기 재미있는 과학자 유머 하나 알려드릴게요:\n",
      "\n",
      "왜 전자는 항상 파티에 늦게 올까요?  \n",
      "왜냐하면, 그는 항상 \"음전하\" 때문에 먼저 도착\n"
     ]
    }
   ],
   "source": [
    "query = \"재미있는 과학자 유머 하나 알려줘.\"\n",
    "result1 = llm.invoke(query)\n",
    "print(\"응답1: \", result1.content)"
   ]
  },
  {
   "cell_type": "code",
   "execution_count": 27,
   "id": "af5d3128",
   "metadata": {},
   "outputs": [
    {
     "name": "stdout",
     "output_type": "stream",
     "text": [
      "응답2:  물론이죠! 여기 재미있는 과학자 유머 하나 알려드릴게요:\n",
      "\n",
      "왜 전자는 항상 파티에 늦게 올까요?  \n",
      "왜냐하면, 그는 항상 \"음전하\" 때문에 먼저 도착\n"
     ]
    }
   ],
   "source": [
    "result2 = llm.invoke(query)\n",
    "print(\"응답2: \", result2.content)"
   ]
  },
  {
   "cell_type": "code",
   "execution_count": null,
   "id": "8797c6dc",
   "metadata": {},
   "outputs": [],
   "source": []
  }
 ],
 "metadata": {
  "kernelspec": {
   "display_name": ".venv",
   "language": "python",
   "name": "python3"
  },
  "language_info": {
   "codemirror_mode": {
    "name": "ipython",
    "version": 3
   },
   "file_extension": ".py",
   "mimetype": "text/x-python",
   "name": "python",
   "nbconvert_exporter": "python",
   "pygments_lexer": "ipython3",
   "version": "3.13.3"
  }
 },
 "nbformat": 4,
 "nbformat_minor": 5
}
