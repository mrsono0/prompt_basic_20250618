{
 "cells": [
  {
   "cell_type": "markdown",
   "id": "81665f14",
   "metadata": {},
   "source": [
    "# Pinecone 환경 설정 확인"
   ]
  },
  {
   "cell_type": "code",
   "execution_count": 13,
   "id": "7430c72d",
   "metadata": {},
   "outputs": [],
   "source": [
    "from dotenv import load_dotenv\n",
    "import os\n",
    "import pinecone\n",
    "from pinecone import Pinecone as PineconeClient\n",
    "from pinecone import ServerlessSpec"
   ]
  },
  {
   "cell_type": "code",
   "execution_count": 8,
   "id": "2f5219a0",
   "metadata": {},
   "outputs": [
    {
     "name": "stdout",
     "output_type": "stream",
     "text": [
      "pcsk_2b4Pa\n",
      "us-east-1-aws\n"
     ]
    }
   ],
   "source": [
    "pinecone_api_key = os.getenv(\"PINECONE_API_KEY\")\n",
    "pinecone_environment = os.getenv(\"PINECONE_ENVIRONMENT\")\n",
    "print(pinecone_api_key[:10])\n",
    "print(pinecone_environment)"
   ]
  },
  {
   "cell_type": "code",
   "execution_count": null,
   "id": "eb1a286f",
   "metadata": {},
   "outputs": [],
   "source": [
    "# 파인코인 서비스 서버의 연결 설정\n",
    "pc = PineconeClient(api_key=pinecone_api_key, environment=pinecone_environment)"
   ]
  },
  {
   "cell_type": "code",
   "execution_count": null,
   "id": "389867ce",
   "metadata": {},
   "outputs": [],
   "source": [
    "# 서비스 서버에 없으면 인덱스 생성\n",
    "index_name =  \"example-index\"\n",
    "embedding_dim = 1536 # text-embedding-3-small의 벡터 차원\n",
    "if not pc.has_index(index_name):\n",
    "    pc.create_index(\n",
    "        name=index_name,\n",
    "        dimension=embedding_dim,\n",
    "        spec=ServerlessSpec(\n",
    "            cloud=\"aws\",\n",
    "            region=\"us-east-1\",\n",
    "        ),\n",
    "    )"
   ]
  },
  {
   "cell_type": "code",
   "execution_count": null,
   "id": "bd579de9",
   "metadata": {},
   "outputs": [
    {
     "name": "stderr",
     "output_type": "stream",
     "text": [
      "/Users/mrsono0/Downloads/Data-A/prompt_basic_20250618/.venv/lib/python3.13/site-packages/tqdm/auto.py:21: TqdmWarning: IProgress not found. Please update jupyter and ipywidgets. See https://ipywidgets.readthedocs.io/en/stable/user_install.html\n",
      "  from .autonotebook import tqdm as notebook_tqdm\n"
     ]
    }
   ],
   "source": [
    "# 서비스 서버의 인덱스와 연결 (받아오는)\n",
    "index = pc.Index(index_name)"
   ]
  },
  {
   "cell_type": "code",
   "execution_count": 17,
   "id": "328fe529",
   "metadata": {},
   "outputs": [],
   "source": [
    "# OpenAI의 임베딩 모델 설정 : text-embedding-3-small\n",
    "from langchain_openai import OpenAIEmbeddings\n",
    "embeddings = OpenAIEmbeddings(model=\"text-embedding-3-small\")"
   ]
  },
  {
   "cell_type": "code",
   "execution_count": 18,
   "id": "68a842d0",
   "metadata": {},
   "outputs": [],
   "source": [
    "from langchain_core.documents import Document\n",
    "# 예시 문서 생성 (내용과 메타데이터)\n",
    "doc1 = Document(\n",
    "    page_content=\"Building an exciting new project with LangChain - come check it out!\",\n",
    "    metadata={\"source\": \"tweet\"},\n",
    ")\n",
    "doc2 = Document(\n",
    "    page_content=\"The weather forecast for tomorrow is cloudy and overcast, with a high of 62 degrees.\",\n",
    "    metadata={\"source\": \"news\"},\n",
    ")\n",
    "doc3 = Document(\n",
    "    page_content=\"LangGraph is the best framework for building stateful, agentic applications!\",\n",
    "    metadata={\"source\": \"tweet\"},\n",
    ")"
   ]
  },
  {
   "cell_type": "code",
   "execution_count": null,
   "id": "fc0b1671",
   "metadata": {},
   "outputs": [],
   "source": [
    "from langchain_pinecone import PineconeVectorStore\n",
    "vector_store = PineconeVectorStore(index=index, embedding=embeddings)\n",
    "vector_store.add_documents([doc1, doc2, doc3])"
   ]
  },
  {
   "cell_type": "code",
   "execution_count": 21,
   "id": "caed848e",
   "metadata": {},
   "outputs": [
    {
     "name": "stdout",
     "output_type": "stream",
     "text": [
      "현재 벡터 DB 내 벡터 수: 3\n"
     ]
    }
   ],
   "source": [
    "print(f\"현재 벡터 DB 내 벡터 수: {index.describe_index_stats().total_vector_count}\")"
   ]
  },
  {
   "cell_type": "code",
   "execution_count": 25,
   "id": "31b41504",
   "metadata": {},
   "outputs": [
    {
     "name": "stdout",
     "output_type": "stream",
     "text": [
      "쿼리 : LangChain은 LLM을 쉽게 작업할 수 있도록 추상화를 제공합니다.\n",
      "* Building an exciting new project with LangChain - come check it out! (source: tweet)\n",
      "* LangGraph is the best framework for building stateful, agentic applications! (source: tweet)\n",
      "* The weather forecast for tomorrow is cloudy and overcast, with a high of 62 degrees. (source: news)\n"
     ]
    }
   ],
   "source": [
    "# 쿼리 해보기\n",
    "query1 = \"LangChain은 LLM을 쉽게 작업할 수 있도록 추상화를 제공합니다.\"\n",
    "results1 = vector_store.similarity_search(query=query1, k=3)\n",
    "print(f\"쿼리 : {query1}\")\n",
    "for result in results1:\n",
    "    print(f\"* {result.page_content} (source: {result.metadata['source']})\")"
   ]
  },
  {
   "cell_type": "code",
   "execution_count": 24,
   "id": "33f4fff7",
   "metadata": {},
   "outputs": [
    {
     "name": "stdout",
     "output_type": "stream",
     "text": [
      "쿼리 : LangChain은 LLM을 쉽게 작업할 수 있도록 추상화를 제공합니다.\n",
      "* Building an exciting new project with LangChain - come check it out! (source: tweet)\n",
      "* LangGraph is the best framework for building stateful, agentic applications! (source: tweet)\n"
     ]
    }
   ],
   "source": [
    "results2 = vector_store.similarity_search(query=query1, k=3, filter={\"source\": \"tweet\"})\n",
    "print(f\"쿼리 : {query1}\")\n",
    "for result in results2:\n",
    "    print(f\"* {result.page_content} (source: {result.metadata['source']})\")"
   ]
  },
  {
   "cell_type": "code",
   "execution_count": 27,
   "id": "298f6cb6",
   "metadata": {},
   "outputs": [
    {
     "name": "stdout",
     "output_type": "stream",
     "text": [
      "쿼리 : Will it be hot tomorrow\n",
      "* SIM=(0.5441) The weather forecast for tomorrow is cloudy and overcast, with a high of 62 degrees. (source: news)\n"
     ]
    }
   ],
   "source": [
    "query3 = \"Will it be hot tomorrow\"\n",
    "results3 = vector_store.similarity_search_with_score(query=query3, k=1, filter={\"source\": \"news\"})\n",
    "print(f\"쿼리 : {query3}\")\n",
    "for result, score in results3:\n",
    "    print(f\"* SIM=({score:.4f}) {result.page_content} (source: {result.metadata['source']})\")"
   ]
  },
  {
   "cell_type": "code",
   "execution_count": 28,
   "id": "4f9c7037",
   "metadata": {},
   "outputs": [
    {
     "name": "stdout",
     "output_type": "stream",
     "text": [
      "쿼리 : Will it be hot tomorrow\n",
      "* SIM=(0.5442) The weather forecast for tomorrow is cloudy and overcast, with a high of 62 degrees. (source: news)\n",
      "* SIM=(0.0843) Building an exciting new project with LangChain - come check it out! (source: tweet)\n",
      "* SIM=(0.0467) LangGraph is the best framework for building stateful, agentic applications! (source: tweet)\n"
     ]
    }
   ],
   "source": [
    "query3 = \"Will it be hot tomorrow\"\n",
    "results4 = vector_store.similarity_search_with_score(\n",
    "    query=query3, k=3\n",
    ")\n",
    "print(f\"쿼리 : {query3}\")\n",
    "for result, score in results4:\n",
    "    print(\n",
    "        f\"* SIM=({score:.4f}) {result.page_content} (source: {result.metadata['source']})\"\n",
    "    )"
   ]
  },
  {
   "cell_type": "code",
   "execution_count": null,
   "id": "695f2b5f",
   "metadata": {},
   "outputs": [],
   "source": []
  }
 ],
 "metadata": {
  "kernelspec": {
   "display_name": ".venv",
   "language": "python",
   "name": "python3"
  },
  "language_info": {
   "codemirror_mode": {
    "name": "ipython",
    "version": 3
   },
   "file_extension": ".py",
   "mimetype": "text/x-python",
   "name": "python",
   "nbconvert_exporter": "python",
   "pygments_lexer": "ipython3",
   "version": "3.13.3"
  }
 },
 "nbformat": 4,
 "nbformat_minor": 5
}
