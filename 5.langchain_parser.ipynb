{
 "cells": [
  {
   "cell_type": "markdown",
   "id": "616653fd",
   "metadata": {},
   "source": [
    "# Output Parser\n",
    "- StrOutputParser\n",
    "- JsonOutputParser\n",
    "- CommaSeparatedListOutputParser"
   ]
  },
  {
   "cell_type": "code",
   "execution_count": 4,
   "id": "7e2dc2bc",
   "metadata": {},
   "outputs": [],
   "source": [
    "from langchain.prompts import PromptTemplate\n",
    "from langchain_core.output_parsers import StrOutputParser\n",
    "from langchain_openai import ChatOpenAI"
   ]
  },
  {
   "cell_type": "code",
   "execution_count": 8,
   "id": "a9e68b3e",
   "metadata": {},
   "outputs": [],
   "source": [
    "llm = ChatOpenAI(model=\"gpt-4.1-nano\", temperature=0)\n",
    "output_parser = StrOutputParser()\n",
    "prompt = PromptTemplate(template=\"질문 : {question}\\n한 단어로 답하세요\", input_variables=[\"question\"])\n",
    "chain = prompt | llm | output_parser"
   ]
  },
  {
   "cell_type": "code",
   "execution_count": 9,
   "id": "65fd86a4",
   "metadata": {},
   "outputs": [
    {
     "name": "stdout",
     "output_type": "stream",
     "text": [
      "한국\n"
     ]
    }
   ],
   "source": [
    "query = {\"question\" :\"서울은 어느 나라의 수도인가요?\"}\n",
    "result = chain.invoke(query)\n",
    "print(result)"
   ]
  },
  {
   "cell_type": "markdown",
   "id": "e9d26f47",
   "metadata": {},
   "source": [
    "## CommaSeparated List Output Parser"
   ]
  },
  {
   "cell_type": "code",
   "execution_count": 10,
   "id": "d3f1a2ba",
   "metadata": {},
   "outputs": [],
   "source": [
    "from langchain_core.output_parsers import CommaSeparatedListOutputParser"
   ]
  },
  {
   "cell_type": "code",
   "execution_count": 11,
   "id": "c31086b0",
   "metadata": {},
   "outputs": [
    {
     "name": "stdout",
     "output_type": "stream",
     "text": [
      "기본 형식 지침: \n",
      " Your response should be a list of comma separated values, eg: `foo, bar, baz` or `foo,bar,baz`\n"
     ]
    }
   ],
   "source": [
    "cs_list_parser = CommaSeparatedListOutputParser()\n",
    "format_instructions = cs_list_parser.get_format_instructions()\n",
    "print(\"기본 형식 지침: \\n\", format_instructions)"
   ]
  },
  {
   "cell_type": "code",
   "execution_count": 12,
   "id": "9891efe9",
   "metadata": {},
   "outputs": [],
   "source": [
    "format_instructions_ko = \"응답은 쉼표로 구분된 값의 목록 형태로 출력하삽시오. \\n 예: '사과, 바나나, 오렌지'\"\n",
    "prompt = PromptTemplate(template=\"다음 {item} 5가지를 나열하세요.\\n {format_instructions}\", \n",
    "                        input_variables=[\"item\"],\n",
    "                        partial_variables={\"format_instructions\": format_instructions_ko}\n",
    "                        )\n",
    "chain = prompt | llm | cs_list_parser"
   ]
  },
  {
   "cell_type": "code",
   "execution_count": 13,
   "id": "c6311c37",
   "metadata": {},
   "outputs": [
    {
     "name": "stdout",
     "output_type": "stream",
     "text": [
      "['초콜릿', '바닐라', '딸기', '민트 초코칩', '녹차']\n"
     ]
    }
   ],
   "source": [
    "input_data = {\"item\": \"아이스크림 맛\"}\n",
    "result_list = chain.invoke(input_data)\n",
    "print(result_list)"
   ]
  },
  {
   "cell_type": "markdown",
   "id": "f480a8c5",
   "metadata": {},
   "source": [
    "# Json Output Parser"
   ]
  },
  {
   "cell_type": "code",
   "execution_count": 1,
   "id": "f45f8218",
   "metadata": {},
   "outputs": [],
   "source": [
    "from langchain_core.output_parsers import JsonOutputParser"
   ]
  },
  {
   "cell_type": "code",
   "execution_count": 7,
   "id": "22682d11",
   "metadata": {},
   "outputs": [],
   "source": [
    "json_parser = JsonOutputParser()\n",
    "movie_prompt = PromptTemplate(\n",
    "  template=(\n",
    "    \"다음 사용자 취향에 맞는 영화를 한 편 추천해주세요.\\n\"\n",
    "    \"취향: {preferences}\\n\\n\"\n",
    "    \"아래 형식의 JSON으로만 답변하십시오. (추가 설명 금지): \\n\"\n",
    "    '{{ \"title\" : \"<영화 제목>\", \"year\" : <출시년도>, \"genre\" : \"<장르>\" }}'\n",
    "  ),\n",
    "  input_variables=[\"preferences\"]\n",
    ")\n",
    "llm = ChatOpenAI(model=\"gpt-4.1-nano\", temperature=0)\n",
    "chain = movie_prompt | llm | json_parser"
   ]
  },
  {
   "cell_type": "code",
   "execution_count": 8,
   "id": "88bfe64f",
   "metadata": {},
   "outputs": [
    {
     "name": "stdout",
     "output_type": "stream",
     "text": [
      "{'title': '인터스텔라', 'year': 2014, 'genre': 'SF'}\n"
     ]
    }
   ],
   "source": [
    "user_input = {\"preferences\" : \"SF (공상 과학)\"}\n",
    "result = chain.invoke(user_input)\n",
    "print(result)"
   ]
  },
  {
   "cell_type": "code",
   "execution_count": 10,
   "id": "a3df4eb0",
   "metadata": {},
   "outputs": [
    {
     "name": "stdout",
     "output_type": "stream",
     "text": [
      "영화제목:  인터스텔라\n"
     ]
    }
   ],
   "source": [
    "print(\"영화제목: \", result[\"title\"])"
   ]
  },
  {
   "cell_type": "code",
   "execution_count": null,
   "id": "1837a1bf",
   "metadata": {},
   "outputs": [],
   "source": []
  }
 ],
 "metadata": {
  "kernelspec": {
   "display_name": ".venv",
   "language": "python",
   "name": "python3"
  },
  "language_info": {
   "codemirror_mode": {
    "name": "ipython",
    "version": 3
   },
   "file_extension": ".py",
   "mimetype": "text/x-python",
   "name": "python",
   "nbconvert_exporter": "python",
   "pygments_lexer": "ipython3",
   "version": "3.13.3"
  }
 },
 "nbformat": 4,
 "nbformat_minor": 5
}
